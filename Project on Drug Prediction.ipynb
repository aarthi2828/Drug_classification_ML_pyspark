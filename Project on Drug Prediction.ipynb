{
 "cells": [
  {
   "cell_type": "markdown",
   "metadata": {},
   "source": [
    "# Project on Drug Prediction\n",
    "## Project Abstract:\n",
    "### The data set contains various information that effect the predictions like Age, Sex, BP, Cholesterol levels, Na to Potassium Ratio and finally the drug type.\n",
    "## Problem Statement:\n",
    "### To use the given data and to predict which drug is used."
   ]
  },
  {
   "cell_type": "markdown",
   "metadata": {},
   "source": [
    "## Dataset Information:\n",
    "### Each attribute in the dataset is a important factor.\n",
    "### Column Description:\n",
    "#### Age:- Age of the Patient\n",
    "#### Sex:- Gender of the patients\n",
    "#### BP:- Blood Pressure Levels\n",
    "#### Cholesterol:- Cholesterol Levels\n",
    "#### Na_to_K:- Sodium to potassium Ration in Blood\n",
    "#### Drug:- Drug Type"
   ]
  },
  {
   "cell_type": "markdown",
   "metadata": {},
   "source": [
    "### 1. Importing Necessary Libraries:"
   ]
  },
  {
   "cell_type": "code",
   "execution_count": 1,
   "metadata": {},
   "outputs": [],
   "source": [
    "import numpy as np\n",
    "import pandas as pd\n",
    "import seaborn as sns\n",
    "%matplotlib inline\n",
    "from matplotlib import pyplot as plt\n",
    "from sklearn.model_selection import train_test_split\n",
    "from sklearn.ensemble import RandomForestClassifier\n",
    "from sklearn.preprocessing import StandardScaler\n",
    "from sklearn.preprocessing import MinMaxScaler\n",
    "from sklearn.preprocessing import RobustScaler\n",
    "%matplotlib inline"
   ]
  },
  {
   "cell_type": "markdown",
   "metadata": {},
   "source": [
    "### 2. Importing Data:"
   ]
  },
  {
   "cell_type": "code",
   "execution_count": 2,
   "metadata": {},
   "outputs": [],
   "source": [
    "df=pd.read_csv('drug200.csv')"
   ]
  },
  {
   "cell_type": "markdown",
   "metadata": {},
   "source": [
    "### 3. EDA:"
   ]
  },
  {
   "cell_type": "code",
   "execution_count": 3,
   "metadata": {},
   "outputs": [
    {
     "data": {
      "text/plain": [
       "20"
      ]
     },
     "execution_count": 3,
     "metadata": {},
     "output_type": "execute_result"
    }
   ],
   "source": [
    "pd. get_option(\"display.max_columns\")"
   ]
  },
  {
   "cell_type": "code",
   "execution_count": 4,
   "metadata": {},
   "outputs": [
    {
     "data": {
      "text/html": [
       "<div>\n",
       "<style scoped>\n",
       "    .dataframe tbody tr th:only-of-type {\n",
       "        vertical-align: middle;\n",
       "    }\n",
       "\n",
       "    .dataframe tbody tr th {\n",
       "        vertical-align: top;\n",
       "    }\n",
       "\n",
       "    .dataframe thead th {\n",
       "        text-align: right;\n",
       "    }\n",
       "</style>\n",
       "<table border=\"1\" class=\"dataframe\">\n",
       "  <thead>\n",
       "    <tr style=\"text-align: right;\">\n",
       "      <th></th>\n",
       "      <th>Age</th>\n",
       "      <th>Sex</th>\n",
       "      <th>BP</th>\n",
       "      <th>Cholesterol</th>\n",
       "      <th>Na_to_K</th>\n",
       "      <th>Drug</th>\n",
       "    </tr>\n",
       "  </thead>\n",
       "  <tbody>\n",
       "    <tr>\n",
       "      <th>0</th>\n",
       "      <td>23</td>\n",
       "      <td>F</td>\n",
       "      <td>HIGH</td>\n",
       "      <td>HIGH</td>\n",
       "      <td>25.355</td>\n",
       "      <td>DrugY</td>\n",
       "    </tr>\n",
       "    <tr>\n",
       "      <th>1</th>\n",
       "      <td>47</td>\n",
       "      <td>M</td>\n",
       "      <td>LOW</td>\n",
       "      <td>HIGH</td>\n",
       "      <td>13.093</td>\n",
       "      <td>drugC</td>\n",
       "    </tr>\n",
       "    <tr>\n",
       "      <th>2</th>\n",
       "      <td>47</td>\n",
       "      <td>M</td>\n",
       "      <td>LOW</td>\n",
       "      <td>HIGH</td>\n",
       "      <td>10.114</td>\n",
       "      <td>drugC</td>\n",
       "    </tr>\n",
       "    <tr>\n",
       "      <th>3</th>\n",
       "      <td>28</td>\n",
       "      <td>F</td>\n",
       "      <td>NORMAL</td>\n",
       "      <td>HIGH</td>\n",
       "      <td>7.798</td>\n",
       "      <td>drugX</td>\n",
       "    </tr>\n",
       "    <tr>\n",
       "      <th>4</th>\n",
       "      <td>61</td>\n",
       "      <td>F</td>\n",
       "      <td>LOW</td>\n",
       "      <td>HIGH</td>\n",
       "      <td>18.043</td>\n",
       "      <td>DrugY</td>\n",
       "    </tr>\n",
       "  </tbody>\n",
       "</table>\n",
       "</div>"
      ],
      "text/plain": [
       "   Age Sex      BP Cholesterol  Na_to_K   Drug\n",
       "0   23   F    HIGH        HIGH   25.355  DrugY\n",
       "1   47   M     LOW        HIGH   13.093  drugC\n",
       "2   47   M     LOW        HIGH   10.114  drugC\n",
       "3   28   F  NORMAL        HIGH    7.798  drugX\n",
       "4   61   F     LOW        HIGH   18.043  DrugY"
      ]
     },
     "execution_count": 4,
     "metadata": {},
     "output_type": "execute_result"
    }
   ],
   "source": [
    "df.head()"
   ]
  },
  {
   "cell_type": "code",
   "execution_count": 5,
   "metadata": {},
   "outputs": [
    {
     "data": {
      "text/plain": [
       "(200, 6)"
      ]
     },
     "execution_count": 5,
     "metadata": {},
     "output_type": "execute_result"
    }
   ],
   "source": [
    "df.shape"
   ]
  },
  {
   "cell_type": "code",
   "execution_count": 6,
   "metadata": {},
   "outputs": [
    {
     "name": "stdout",
     "output_type": "stream",
     "text": [
      "<class 'pandas.core.frame.DataFrame'>\n",
      "RangeIndex: 200 entries, 0 to 199\n",
      "Data columns (total 6 columns):\n",
      " #   Column       Non-Null Count  Dtype  \n",
      "---  ------       --------------  -----  \n",
      " 0   Age          200 non-null    int64  \n",
      " 1   Sex          200 non-null    object \n",
      " 2   BP           200 non-null    object \n",
      " 3   Cholesterol  200 non-null    object \n",
      " 4   Na_to_K      200 non-null    float64\n",
      " 5   Drug         200 non-null    object \n",
      "dtypes: float64(1), int64(1), object(4)\n",
      "memory usage: 9.5+ KB\n"
     ]
    }
   ],
   "source": [
    "df.info()"
   ]
  },
  {
   "cell_type": "code",
   "execution_count": 7,
   "metadata": {},
   "outputs": [
    {
     "data": {
      "text/plain": [
       "Age              int64\n",
       "Sex             object\n",
       "BP              object\n",
       "Cholesterol     object\n",
       "Na_to_K        float64\n",
       "Drug            object\n",
       "dtype: object"
      ]
     },
     "execution_count": 7,
     "metadata": {},
     "output_type": "execute_result"
    }
   ],
   "source": [
    "df.dtypes"
   ]
  },
  {
   "cell_type": "code",
   "execution_count": 8,
   "metadata": {},
   "outputs": [
    {
     "data": {
      "text/html": [
       "<div>\n",
       "<style scoped>\n",
       "    .dataframe tbody tr th:only-of-type {\n",
       "        vertical-align: middle;\n",
       "    }\n",
       "\n",
       "    .dataframe tbody tr th {\n",
       "        vertical-align: top;\n",
       "    }\n",
       "\n",
       "    .dataframe thead th {\n",
       "        text-align: right;\n",
       "    }\n",
       "</style>\n",
       "<table border=\"1\" class=\"dataframe\">\n",
       "  <thead>\n",
       "    <tr style=\"text-align: right;\">\n",
       "      <th></th>\n",
       "      <th>Age</th>\n",
       "      <th>Na_to_K</th>\n",
       "    </tr>\n",
       "  </thead>\n",
       "  <tbody>\n",
       "    <tr>\n",
       "      <th>count</th>\n",
       "      <td>200.000000</td>\n",
       "      <td>200.000000</td>\n",
       "    </tr>\n",
       "    <tr>\n",
       "      <th>mean</th>\n",
       "      <td>44.315000</td>\n",
       "      <td>16.084485</td>\n",
       "    </tr>\n",
       "    <tr>\n",
       "      <th>std</th>\n",
       "      <td>16.544315</td>\n",
       "      <td>7.223956</td>\n",
       "    </tr>\n",
       "    <tr>\n",
       "      <th>min</th>\n",
       "      <td>15.000000</td>\n",
       "      <td>6.269000</td>\n",
       "    </tr>\n",
       "    <tr>\n",
       "      <th>25%</th>\n",
       "      <td>31.000000</td>\n",
       "      <td>10.445500</td>\n",
       "    </tr>\n",
       "    <tr>\n",
       "      <th>50%</th>\n",
       "      <td>45.000000</td>\n",
       "      <td>13.936500</td>\n",
       "    </tr>\n",
       "    <tr>\n",
       "      <th>75%</th>\n",
       "      <td>58.000000</td>\n",
       "      <td>19.380000</td>\n",
       "    </tr>\n",
       "    <tr>\n",
       "      <th>max</th>\n",
       "      <td>74.000000</td>\n",
       "      <td>38.247000</td>\n",
       "    </tr>\n",
       "  </tbody>\n",
       "</table>\n",
       "</div>"
      ],
      "text/plain": [
       "              Age     Na_to_K\n",
       "count  200.000000  200.000000\n",
       "mean    44.315000   16.084485\n",
       "std     16.544315    7.223956\n",
       "min     15.000000    6.269000\n",
       "25%     31.000000   10.445500\n",
       "50%     45.000000   13.936500\n",
       "75%     58.000000   19.380000\n",
       "max     74.000000   38.247000"
      ]
     },
     "execution_count": 8,
     "metadata": {},
     "output_type": "execute_result"
    }
   ],
   "source": [
    "df.describe()"
   ]
  },
  {
   "cell_type": "code",
   "execution_count": 9,
   "metadata": {
    "scrolled": true
   },
   "outputs": [
    {
     "data": {
      "text/html": [
       "<div>\n",
       "<style scoped>\n",
       "    .dataframe tbody tr th:only-of-type {\n",
       "        vertical-align: middle;\n",
       "    }\n",
       "\n",
       "    .dataframe tbody tr th {\n",
       "        vertical-align: top;\n",
       "    }\n",
       "\n",
       "    .dataframe thead th {\n",
       "        text-align: right;\n",
       "    }\n",
       "</style>\n",
       "<table border=\"1\" class=\"dataframe\">\n",
       "  <thead>\n",
       "    <tr style=\"text-align: right;\">\n",
       "      <th></th>\n",
       "      <th>Age</th>\n",
       "      <th>Sex</th>\n",
       "      <th>BP</th>\n",
       "      <th>Cholesterol</th>\n",
       "      <th>Na_to_K</th>\n",
       "      <th>Drug</th>\n",
       "    </tr>\n",
       "  </thead>\n",
       "  <tbody>\n",
       "    <tr>\n",
       "      <th>count</th>\n",
       "      <td>200.000000</td>\n",
       "      <td>200</td>\n",
       "      <td>200</td>\n",
       "      <td>200</td>\n",
       "      <td>200.000000</td>\n",
       "      <td>200</td>\n",
       "    </tr>\n",
       "    <tr>\n",
       "      <th>unique</th>\n",
       "      <td>NaN</td>\n",
       "      <td>2</td>\n",
       "      <td>3</td>\n",
       "      <td>2</td>\n",
       "      <td>NaN</td>\n",
       "      <td>5</td>\n",
       "    </tr>\n",
       "    <tr>\n",
       "      <th>top</th>\n",
       "      <td>NaN</td>\n",
       "      <td>M</td>\n",
       "      <td>HIGH</td>\n",
       "      <td>HIGH</td>\n",
       "      <td>NaN</td>\n",
       "      <td>DrugY</td>\n",
       "    </tr>\n",
       "    <tr>\n",
       "      <th>freq</th>\n",
       "      <td>NaN</td>\n",
       "      <td>104</td>\n",
       "      <td>77</td>\n",
       "      <td>103</td>\n",
       "      <td>NaN</td>\n",
       "      <td>91</td>\n",
       "    </tr>\n",
       "    <tr>\n",
       "      <th>mean</th>\n",
       "      <td>44.315000</td>\n",
       "      <td>NaN</td>\n",
       "      <td>NaN</td>\n",
       "      <td>NaN</td>\n",
       "      <td>16.084485</td>\n",
       "      <td>NaN</td>\n",
       "    </tr>\n",
       "    <tr>\n",
       "      <th>std</th>\n",
       "      <td>16.544315</td>\n",
       "      <td>NaN</td>\n",
       "      <td>NaN</td>\n",
       "      <td>NaN</td>\n",
       "      <td>7.223956</td>\n",
       "      <td>NaN</td>\n",
       "    </tr>\n",
       "    <tr>\n",
       "      <th>min</th>\n",
       "      <td>15.000000</td>\n",
       "      <td>NaN</td>\n",
       "      <td>NaN</td>\n",
       "      <td>NaN</td>\n",
       "      <td>6.269000</td>\n",
       "      <td>NaN</td>\n",
       "    </tr>\n",
       "    <tr>\n",
       "      <th>25%</th>\n",
       "      <td>31.000000</td>\n",
       "      <td>NaN</td>\n",
       "      <td>NaN</td>\n",
       "      <td>NaN</td>\n",
       "      <td>10.445500</td>\n",
       "      <td>NaN</td>\n",
       "    </tr>\n",
       "    <tr>\n",
       "      <th>50%</th>\n",
       "      <td>45.000000</td>\n",
       "      <td>NaN</td>\n",
       "      <td>NaN</td>\n",
       "      <td>NaN</td>\n",
       "      <td>13.936500</td>\n",
       "      <td>NaN</td>\n",
       "    </tr>\n",
       "    <tr>\n",
       "      <th>75%</th>\n",
       "      <td>58.000000</td>\n",
       "      <td>NaN</td>\n",
       "      <td>NaN</td>\n",
       "      <td>NaN</td>\n",
       "      <td>19.380000</td>\n",
       "      <td>NaN</td>\n",
       "    </tr>\n",
       "    <tr>\n",
       "      <th>max</th>\n",
       "      <td>74.000000</td>\n",
       "      <td>NaN</td>\n",
       "      <td>NaN</td>\n",
       "      <td>NaN</td>\n",
       "      <td>38.247000</td>\n",
       "      <td>NaN</td>\n",
       "    </tr>\n",
       "  </tbody>\n",
       "</table>\n",
       "</div>"
      ],
      "text/plain": [
       "               Age  Sex    BP Cholesterol     Na_to_K   Drug\n",
       "count   200.000000  200   200         200  200.000000    200\n",
       "unique         NaN    2     3           2         NaN      5\n",
       "top            NaN    M  HIGH        HIGH         NaN  DrugY\n",
       "freq           NaN  104    77         103         NaN     91\n",
       "mean     44.315000  NaN   NaN         NaN   16.084485    NaN\n",
       "std      16.544315  NaN   NaN         NaN    7.223956    NaN\n",
       "min      15.000000  NaN   NaN         NaN    6.269000    NaN\n",
       "25%      31.000000  NaN   NaN         NaN   10.445500    NaN\n",
       "50%      45.000000  NaN   NaN         NaN   13.936500    NaN\n",
       "75%      58.000000  NaN   NaN         NaN   19.380000    NaN\n",
       "max      74.000000  NaN   NaN         NaN   38.247000    NaN"
      ]
     },
     "execution_count": 9,
     "metadata": {},
     "output_type": "execute_result"
    }
   ],
   "source": [
    "df.describe(include=\"all\")"
   ]
  },
  {
   "cell_type": "code",
   "execution_count": 10,
   "metadata": {
    "scrolled": false
   },
   "outputs": [
    {
     "data": {
      "text/plain": [
       "Age            0\n",
       "Sex            0\n",
       "BP             0\n",
       "Cholesterol    0\n",
       "Na_to_K        0\n",
       "Drug           0\n",
       "dtype: int64"
      ]
     },
     "execution_count": 10,
     "metadata": {},
     "output_type": "execute_result"
    }
   ],
   "source": [
    "# Checking for missing values in the dataframe\n",
    "df.isnull().sum() # No missing values are present in the Dataframe"
   ]
  },
  {
   "cell_type": "code",
   "execution_count": 11,
   "metadata": {},
   "outputs": [
    {
     "data": {
      "text/plain": [
       "<AxesSubplot:>"
      ]
     },
     "execution_count": 11,
     "metadata": {},
     "output_type": "execute_result"
    },
    {
     "data": {
      "image/png": "[encoded data removed]",
      "text/plain": [
       "<Figure size 936x648 with 2 Axes>"
      ]
     },
     "metadata": {
      "needs_background": "light"
     },
     "output_type": "display_data"
    }
   ],
   "source": [
    "# Checking Visually for missing values\n",
    "f, ax = plt.subplots(figsize=(13, 9))\n",
    "sns.heatmap(df.isnull(),yticklabels=False,cmap=\"viridis\")"
   ]
  },
  {
   "cell_type": "code",
   "execution_count": 12,
   "metadata": {
    "scrolled": false
   },
   "outputs": [
    {
     "data": {
      "text/plain": [
       "<AxesSubplot:>"
      ]
     },
     "execution_count": 12,
     "metadata": {},
     "output_type": "execute_result"
    },
    {
     "data": {
      "image/png": "[encoded data removed]",
      "text/plain": [
       "<Figure size 936x648 with 2 Axes>"
      ]
     },
     "metadata": {
      "needs_background": "light"
     },
     "output_type": "display_data"
    }
   ],
   "source": [
    "# Getting the correlation of the dataframe visually\n",
    "f, ax = plt.subplots(figsize=(13, 9))\n",
    "sns.heatmap(df.corr(),annot=True)"
   ]
  },
  {
   "cell_type": "code",
   "execution_count": 13,
   "metadata": {},
   "outputs": [
    {
     "data": {
      "text/html": [
       "<div>\n",
       "<style scoped>\n",
       "    .dataframe tbody tr th:only-of-type {\n",
       "        vertical-align: middle;\n",
       "    }\n",
       "\n",
       "    .dataframe tbody tr th {\n",
       "        vertical-align: top;\n",
       "    }\n",
       "\n",
       "    .dataframe thead th {\n",
       "        text-align: right;\n",
       "    }\n",
       "</style>\n",
       "<table border=\"1\" class=\"dataframe\">\n",
       "  <thead>\n",
       "    <tr style=\"text-align: right;\">\n",
       "      <th></th>\n",
       "      <th>Age</th>\n",
       "      <th>Sex</th>\n",
       "      <th>BP</th>\n",
       "      <th>Cholesterol</th>\n",
       "      <th>Na_to_K</th>\n",
       "      <th>Drug</th>\n",
       "    </tr>\n",
       "  </thead>\n",
       "  <tbody>\n",
       "    <tr>\n",
       "      <th>0</th>\n",
       "      <td>23</td>\n",
       "      <td>F</td>\n",
       "      <td>HIGH</td>\n",
       "      <td>HIGH</td>\n",
       "      <td>25.355</td>\n",
       "      <td>DrugY</td>\n",
       "    </tr>\n",
       "    <tr>\n",
       "      <th>1</th>\n",
       "      <td>47</td>\n",
       "      <td>M</td>\n",
       "      <td>LOW</td>\n",
       "      <td>HIGH</td>\n",
       "      <td>13.093</td>\n",
       "      <td>drugC</td>\n",
       "    </tr>\n",
       "    <tr>\n",
       "      <th>2</th>\n",
       "      <td>47</td>\n",
       "      <td>M</td>\n",
       "      <td>LOW</td>\n",
       "      <td>HIGH</td>\n",
       "      <td>10.114</td>\n",
       "      <td>drugC</td>\n",
       "    </tr>\n",
       "    <tr>\n",
       "      <th>3</th>\n",
       "      <td>28</td>\n",
       "      <td>F</td>\n",
       "      <td>NORMAL</td>\n",
       "      <td>HIGH</td>\n",
       "      <td>7.798</td>\n",
       "      <td>drugX</td>\n",
       "    </tr>\n",
       "    <tr>\n",
       "      <th>4</th>\n",
       "      <td>61</td>\n",
       "      <td>F</td>\n",
       "      <td>LOW</td>\n",
       "      <td>HIGH</td>\n",
       "      <td>18.043</td>\n",
       "      <td>DrugY</td>\n",
       "    </tr>\n",
       "    <tr>\n",
       "      <th>...</th>\n",
       "      <td>...</td>\n",
       "      <td>...</td>\n",
       "      <td>...</td>\n",
       "      <td>...</td>\n",
       "      <td>...</td>\n",
       "      <td>...</td>\n",
       "    </tr>\n",
       "    <tr>\n",
       "      <th>195</th>\n",
       "      <td>56</td>\n",
       "      <td>F</td>\n",
       "      <td>LOW</td>\n",
       "      <td>HIGH</td>\n",
       "      <td>11.567</td>\n",
       "      <td>drugC</td>\n",
       "    </tr>\n",
       "    <tr>\n",
       "      <th>196</th>\n",
       "      <td>16</td>\n",
       "      <td>M</td>\n",
       "      <td>LOW</td>\n",
       "      <td>HIGH</td>\n",
       "      <td>12.006</td>\n",
       "      <td>drugC</td>\n",
       "    </tr>\n",
       "    <tr>\n",
       "      <th>197</th>\n",
       "      <td>52</td>\n",
       "      <td>M</td>\n",
       "      <td>NORMAL</td>\n",
       "      <td>HIGH</td>\n",
       "      <td>9.894</td>\n",
       "      <td>drugX</td>\n",
       "    </tr>\n",
       "    <tr>\n",
       "      <th>198</th>\n",
       "      <td>23</td>\n",
       "      <td>M</td>\n",
       "      <td>NORMAL</td>\n",
       "      <td>NORMAL</td>\n",
       "      <td>14.020</td>\n",
       "      <td>drugX</td>\n",
       "    </tr>\n",
       "    <tr>\n",
       "      <th>199</th>\n",
       "      <td>40</td>\n",
       "      <td>F</td>\n",
       "      <td>LOW</td>\n",
       "      <td>NORMAL</td>\n",
       "      <td>11.349</td>\n",
       "      <td>drugX</td>\n",
       "    </tr>\n",
       "  </tbody>\n",
       "</table>\n",
       "<p>200 rows × 6 columns</p>\n",
       "</div>"
      ],
      "text/plain": [
       "     Age Sex      BP Cholesterol  Na_to_K   Drug\n",
       "0     23   F    HIGH        HIGH   25.355  DrugY\n",
       "1     47   M     LOW        HIGH   13.093  drugC\n",
       "2     47   M     LOW        HIGH   10.114  drugC\n",
       "3     28   F  NORMAL        HIGH    7.798  drugX\n",
       "4     61   F     LOW        HIGH   18.043  DrugY\n",
       "..   ...  ..     ...         ...      ...    ...\n",
       "195   56   F     LOW        HIGH   11.567  drugC\n",
       "196   16   M     LOW        HIGH   12.006  drugC\n",
       "197   52   M  NORMAL        HIGH    9.894  drugX\n",
       "198   23   M  NORMAL      NORMAL   14.020  drugX\n",
       "199   40   F     LOW      NORMAL   11.349  drugX\n",
       "\n",
       "[200 rows x 6 columns]"
      ]
     },
     "execution_count": 13,
     "metadata": {},
     "output_type": "execute_result"
    }
   ],
   "source": [
    "df"
   ]
  },
  {
   "cell_type": "code",
   "execution_count": 14,
   "metadata": {},
   "outputs": [
    {
     "data": {
      "image/png": "[encoded data removed]",
      "text/plain": [
       "<Figure size 432x288 with 1 Axes>"
      ]
     },
     "metadata": {
      "needs_background": "light"
     },
     "output_type": "display_data"
    },
    {
     "data": {
      "image/png": "[encoded data removed]",
      "text/plain": [
       "<Figure size 432x288 with 1 Axes>"
      ]
     },
     "metadata": {
      "needs_background": "light"
     },
     "output_type": "display_data"
    }
   ],
   "source": [
    "# Checking for Outliers via visualization:\n",
    "for col in df.columns:\n",
    "    if df[col].dtype in [\"int64\",\"float64\"]:\n",
    "        plt.figure()\n",
    "        df.boxplot([col])\n",
    "        plt.show()"
   ]
  },
  {
   "cell_type": "code",
   "execution_count": 15,
   "metadata": {},
   "outputs": [
    {
     "name": "stdout",
     "output_type": "stream",
     "text": [
      "capping the  Age\n",
      "capping the  Sex\n",
      "capping the  BP\n",
      "capping the  Cholesterol\n",
      "capping the  Na_to_K\n",
      "capping the  Drug\n"
     ]
    },
    {
     "name": "stderr",
     "output_type": "stream",
     "text": [
      "C:\\Users\\roshs\\AppData\\Local\\Temp/ipykernel_7688/1692076479.py:7: SettingWithCopyWarning: \n",
      "A value is trying to be set on a copy of a slice from a DataFrame\n",
      "\n",
      "See the caveats in the documentation: https://pandas.pydata.org/pandas-docs/stable/user_guide/indexing.html#returning-a-view-versus-a-copy\n",
      "  df[col][df[col] <= percentiles[0]] = percentiles[0]\n",
      "C:\\Users\\roshs\\AppData\\Local\\Temp/ipykernel_7688/1692076479.py:8: SettingWithCopyWarning: \n",
      "A value is trying to be set on a copy of a slice from a DataFrame\n",
      "\n",
      "See the caveats in the documentation: https://pandas.pydata.org/pandas-docs/stable/user_guide/indexing.html#returning-a-view-versus-a-copy\n",
      "  df[col][df[col] >= percentiles[1]] = percentiles[1]\n"
     ]
    }
   ],
   "source": [
    "# Dealing with Outliers:\n",
    "def cap_data(df):\n",
    "    for col in df.columns:\n",
    "        print(\"capping the \",col)\n",
    "        if (((df[col].dtype)=='float64') | ((df[col].dtype)=='int64')):\n",
    "            percentiles = df[col].quantile([0.01,0.99]).values\n",
    "            df[col][df[col] <= percentiles[0]] = percentiles[0]\n",
    "            df[col][df[col] >= percentiles[1]] = percentiles[1]\n",
    "        else:\n",
    "            df[col]=df[col]\n",
    "    return df\n",
    "\n",
    "df=cap_data(df)"
   ]
  },
  {
   "cell_type": "code",
   "execution_count": 16,
   "metadata": {},
   "outputs": [
    {
     "data": {
      "text/html": [
       "<div>\n",
       "<style scoped>\n",
       "    .dataframe tbody tr th:only-of-type {\n",
       "        vertical-align: middle;\n",
       "    }\n",
       "\n",
       "    .dataframe tbody tr th {\n",
       "        vertical-align: top;\n",
       "    }\n",
       "\n",
       "    .dataframe thead th {\n",
       "        text-align: right;\n",
       "    }\n",
       "</style>\n",
       "<table border=\"1\" class=\"dataframe\">\n",
       "  <thead>\n",
       "    <tr style=\"text-align: right;\">\n",
       "      <th></th>\n",
       "      <th>Age</th>\n",
       "      <th>Sex</th>\n",
       "      <th>BP</th>\n",
       "      <th>Cholesterol</th>\n",
       "      <th>Na_to_K</th>\n",
       "      <th>Drug</th>\n",
       "    </tr>\n",
       "  </thead>\n",
       "  <tbody>\n",
       "    <tr>\n",
       "      <th>0</th>\n",
       "      <td>23</td>\n",
       "      <td>0</td>\n",
       "      <td>0</td>\n",
       "      <td>0</td>\n",
       "      <td>25.355</td>\n",
       "      <td>0</td>\n",
       "    </tr>\n",
       "    <tr>\n",
       "      <th>1</th>\n",
       "      <td>47</td>\n",
       "      <td>1</td>\n",
       "      <td>1</td>\n",
       "      <td>0</td>\n",
       "      <td>13.093</td>\n",
       "      <td>3</td>\n",
       "    </tr>\n",
       "    <tr>\n",
       "      <th>2</th>\n",
       "      <td>47</td>\n",
       "      <td>1</td>\n",
       "      <td>1</td>\n",
       "      <td>0</td>\n",
       "      <td>10.114</td>\n",
       "      <td>3</td>\n",
       "    </tr>\n",
       "    <tr>\n",
       "      <th>3</th>\n",
       "      <td>28</td>\n",
       "      <td>0</td>\n",
       "      <td>2</td>\n",
       "      <td>0</td>\n",
       "      <td>7.798</td>\n",
       "      <td>4</td>\n",
       "    </tr>\n",
       "    <tr>\n",
       "      <th>4</th>\n",
       "      <td>61</td>\n",
       "      <td>0</td>\n",
       "      <td>1</td>\n",
       "      <td>0</td>\n",
       "      <td>18.043</td>\n",
       "      <td>0</td>\n",
       "    </tr>\n",
       "  </tbody>\n",
       "</table>\n",
       "</div>"
      ],
      "text/plain": [
       "   Age  Sex  BP  Cholesterol  Na_to_K  Drug\n",
       "0   23    0   0            0   25.355     0\n",
       "1   47    1   1            0   13.093     3\n",
       "2   47    1   1            0   10.114     3\n",
       "3   28    0   2            0    7.798     4\n",
       "4   61    0   1            0   18.043     0"
      ]
     },
     "execution_count": 16,
     "metadata": {},
     "output_type": "execute_result"
    }
   ],
   "source": [
    "# Label Encoding on Catagorical columns:\n",
    "df_encoded=df.copy()\n",
    "for col in df_encoded.columns:\n",
    "    if df_encoded[col].dtype=='object':\n",
    "        df_encoded[col]=df_encoded[col].astype('category')\n",
    "        df_encoded[col]=df_encoded[col].cat.codes\n",
    "df=df_encoded\n",
    "df_encoded.head()\n",
    "# Encoding done."
   ]
  },
  {
   "cell_type": "code",
   "execution_count": 17,
   "metadata": {},
   "outputs": [
    {
     "data": {
      "text/plain": [
       "<AxesSubplot:>"
      ]
     },
     "execution_count": 17,
     "metadata": {},
     "output_type": "execute_result"
    },
    {
     "data": {
      "image/png": "[encoded data removed]",
      "text/plain": [
       "<Figure size 936x648 with 2 Axes>"
      ]
     },
     "metadata": {
      "needs_background": "light"
     },
     "output_type": "display_data"
    }
   ],
   "source": [
    "# Checking for data correlation visually\n",
    "f, ax = plt.subplots(figsize=(13, 9))\n",
    "sns.heatmap(df.corr(),annot=True)"
   ]
  },
  {
   "cell_type": "markdown",
   "metadata": {},
   "source": [
    "## The dataframe has a unique form of correlation"
   ]
  },
  {
   "cell_type": "code",
   "execution_count": 18,
   "metadata": {
    "scrolled": true
   },
   "outputs": [
    {
     "data": {
      "image/png": "[encoded data removed]",
      "text/plain": [
       "<Figure size 1440x1440 with 6 Axes>"
      ]
     },
     "metadata": {
      "needs_background": "light"
     },
     "output_type": "display_data"
    }
   ],
   "source": [
    "# Visualization of features to check the spread of data:\n",
    "fig = df.hist(figsize = (20,20),color=\"brown\")"
   ]
  },
  {
   "cell_type": "code",
   "execution_count": 19,
   "metadata": {},
   "outputs": [
    {
     "data": {
      "text/plain": [
       "<seaborn.axisgrid.PairGrid at 0x260010480a0>"
      ]
     },
     "execution_count": 19,
     "metadata": {},
     "output_type": "execute_result"
    },
    {
     "data": {
      "image/png": "[encoded data removed]",
      "text/plain": [
       "<Figure size 1080x1080 with 42 Axes>"
      ]
     },
     "metadata": {
      "needs_background": "light"
     },
     "output_type": "display_data"
    }
   ],
   "source": [
    "# Visualization of features to check the spread of data:\n",
    "sns.pairplot(df,diag_kind='kde')"
   ]
  },
  {
   "cell_type": "markdown",
   "metadata": {},
   "source": [
    "### 4. Data Splitting:"
   ]
  },
  {
   "cell_type": "code",
   "execution_count": 20,
   "metadata": {},
   "outputs": [],
   "source": [
    "# Data splitting\n",
    "x=df_encoded.drop(labels=['Drug'],axis=1)\n",
    "y=df[\"Drug\"]"
   ]
  },
  {
   "cell_type": "markdown",
   "metadata": {},
   "source": [
    "### 5. Random Forest Model Build:"
   ]
  },
  {
   "cell_type": "code",
   "execution_count": 23,
   "metadata": {},
   "outputs": [],
   "source": [
    "rf = RandomForestClassifier(n_estimators = 50)"
   ]
  },
  {
   "cell_type": "markdown",
   "metadata": {},
   "source": [
    "### #6.1 Without Scaling:"
   ]
  },
  {
   "cell_type": "code",
   "execution_count": 25,
   "metadata": {},
   "outputs": [],
   "source": [
    "# Train & Test Spliting\n",
    "x_train,x_test,y_train,y_test=train_test_split(x, y, test_size=0.25)"
   ]
  },
  {
   "cell_type": "code",
   "execution_count": 26,
   "metadata": {},
   "outputs": [
    {
     "data": {
      "text/plain": [
       "RandomForestClassifier(n_estimators=50)"
      ]
     },
     "execution_count": 26,
     "metadata": {},
     "output_type": "execute_result"
    }
   ],
   "source": [
    "# Model Fitting\n",
    "rf.fit(x_train, y_train)"
   ]
  },
  {
   "cell_type": "code",
   "execution_count": 27,
   "metadata": {},
   "outputs": [
    {
     "name": "stdout",
     "output_type": "stream",
     "text": [
      "Train Score: 1.0\n",
      "Test Score:  0.98\n"
     ]
    }
   ],
   "source": [
    "# Accuracy Testing\n",
    "rftr=rf.score(x_train,y_train)\n",
    "print('Train Score:',rftr)\n",
    "rfte=rf.score(x_test,y_test)\n",
    "print('Test Score: ',rfte)"
   ]
  },
  {
   "cell_type": "markdown",
   "metadata": {},
   "source": [
    "## This is a decent model, we must proceed with other models with scaling for more accuracy."
   ]
  },
  {
   "cell_type": "markdown",
   "metadata": {},
   "source": [
    "### #6.2 With Standard Scaling:"
   ]
  },
  {
   "cell_type": "code",
   "execution_count": 28,
   "metadata": {},
   "outputs": [
    {
     "data": {
      "text/plain": [
       "array([[-1.29159102, -1.040833  , -1.11016894, -0.97043679,  1.30041068],\n",
       "       [ 0.16269866,  0.96076892,  0.10979693, -0.97043679, -0.41634769],\n",
       "       [ 0.16269866,  0.96076892,  0.10979693, -0.97043679, -0.83342672],\n",
       "       [-0.988614  , -1.040833  ,  1.32976279, -0.97043679, -1.15768152],\n",
       "       [ 1.0110343 , -1.040833  ,  0.10979693, -0.97043679,  0.27668395],\n",
       "       [-1.35218642, -1.040833  ,  1.32976279, -0.97043679, -1.04441635],\n",
       "       [ 0.28388946, -1.040833  ,  1.32976279, -0.97043679,  0.02915265],\n",
       "       [-0.20087376,  0.96076892,  0.10979693, -0.97043679, -0.70420083],\n",
       "       [ 0.9504389 ,  0.96076892,  1.32976279, -0.97043679, -0.12541441],\n",
       "       [-0.07968296,  0.96076892,  0.10979693,  1.03046381,  0.46219241],\n",
       "       [ 0.16269866, -1.040833  ,  0.10979693, -0.97043679, -0.60199616],\n",
       "       [-0.62504158, -1.040833  , -1.11016894,  1.03046381,  0.43853133],\n",
       "       [-0.07968296,  0.96076892,  0.10979693, -0.97043679, -0.0967131 ],\n",
       "       [ 1.79877454, -1.040833  ,  0.10979693, -0.97043679,  0.68256247],\n",
       "       [ 0.34448487, -1.040833  ,  1.32976279, -0.97043679, -0.47095018],\n",
       "       [-1.71575884, -1.040833  , -1.11016894,  1.03046381, -0.0771122 ],\n",
       "       [ 1.49579753,  0.96076892,  0.10979693,  1.03046381, -0.64567815],\n",
       "       [-0.07968296,  0.96076892, -1.11016894, -0.97043679, -0.29328207],\n",
       "       [-1.29159102,  0.96076892,  0.10979693, -0.97043679, -1.22768472],\n",
       "       [-0.74623239, -1.040833  , -1.11016894,  1.03046381,  1.38707463],\n",
       "       [ 0.76865269,  0.96076892,  0.10979693,  1.03046381,  0.42859088],\n",
       "       [ 1.13222511,  0.96076892,  1.32976279, -0.97043679,  1.37909427],\n",
       "       [ 0.16269866,  0.96076892,  0.10979693,  1.03046381,  2.03026399],\n",
       "       [ 0.22329406, -1.040833  ,  0.10979693, -0.97043679, -0.14431527],\n",
       "       [-0.68563699, -1.040833  ,  0.10979693, -0.97043679,  2.43880264],\n",
       "       [-0.988614  , -1.040833  , -1.11016894,  1.03046381,  0.38392884],\n",
       "       [-0.80682779,  0.96076892, -1.11016894, -0.97043679,  2.0019827 ],\n",
       "       [ 0.28388946, -1.040833  ,  1.32976279,  1.03046381, -0.93605141],\n",
       "       [-0.32206457, -1.040833  ,  0.10979693,  1.03046381,  0.92827369],\n",
       "       [ 0.04150785,  0.96076892,  0.10979693, -0.97043679,  0.26380336],\n",
       "       [-1.59456803, -1.040833  ,  1.32976279,  1.03046381, -1.02439544],\n",
       "       [ 1.79877454,  0.96076892, -1.11016894, -0.97043679, -0.91001022],\n",
       "       [ 0.28388946,  0.96076892,  0.10979693,  1.03046381, -0.70742097],\n",
       "       [ 1.25341591, -1.040833  , -1.11016894,  1.03046381,  2.21339235],\n",
       "       [ 0.52627108,  0.96076892,  1.32976279, -0.97043679, -0.27074104],\n",
       "       [ 0.10210325,  0.96076892,  1.32976279,  1.03046381, -1.2295048 ],\n",
       "       [-0.74623239,  0.96076892, -1.11016894,  1.03046381, -0.927091  ],\n",
       "       [-0.32206457,  0.96076892,  0.10979693,  1.03046381, -0.29804229],\n",
       "       [-0.32206457, -1.040833  ,  1.32976279,  1.03046381, -0.89012931],\n",
       "       [-1.77635424,  0.96076892,  1.32976279, -0.97043679, -0.97763331],\n",
       "       [ 1.73817914, -1.040833  ,  1.32976279, -0.97043679,  0.44161148],\n",
       "       [ 0.82924809, -1.040833  , -1.11016894,  1.03046381, -0.25590036],\n",
       "       [ 0.34448487,  0.96076892,  1.32976279,  1.03046381, -0.03875045],\n",
       "       [-1.29159102,  0.96076892,  1.32976279, -0.97043679, -0.53297301],\n",
       "       [ 0.34448487, -1.040833  ,  1.32976279,  1.03046381, -0.52807279],\n",
       "       [ 1.31401132, -1.040833  ,  1.32976279,  1.03046381, -1.11441955],\n",
       "       [-0.44325537, -1.040833  , -1.11016894, -0.97043679, -0.4166277 ],\n",
       "       [ 1.43520212,  0.96076892,  0.10979693, -0.97043679, -0.80864559],\n",
       "       [-1.29159102,  0.96076892,  1.32976279, -0.97043679,  2.18679113],\n",
       "       [-0.988614  , -1.040833  ,  0.10979693, -0.97043679,  0.52211515],\n",
       "       [ 0.82924809, -1.040833  , -1.11016894, -0.97043679,  0.46891272],\n",
       "       [ 1.37460672,  0.96076892,  1.32976279,  1.03046381, -0.72366171],\n",
       "       [ 1.0716297 ,  0.96076892,  0.10979693,  1.03046381,  1.55634236],\n",
       "       [-1.23099561, -1.040833  , -1.11016894,  1.03046381,  0.33464659],\n",
       "       [ 1.43520212, -1.040833  , -1.11016894,  1.03046381, -0.82292624],\n",
       "       [-1.10980481, -1.040833  ,  0.10979693, -0.97043679, -0.26696087],\n",
       "       [ 1.25341591,  0.96076892, -1.11016894,  1.03046381, -0.66177889],\n",
       "       [-0.26146916,  0.96076892, -1.11016894, -0.97043679,  1.64636647],\n",
       "       [ 0.9504389 ,  0.96076892,  1.32976279,  1.03046381, -0.83664687],\n",
       "       [-0.62504158,  0.96076892, -1.11016894, -0.97043679,  0.36908817],\n",
       "       [-0.38265997, -1.040833  ,  0.10979693,  1.03046381,  1.93323956],\n",
       "       [-1.23099561,  0.96076892, -1.11016894,  1.03046381, -0.92289081],\n",
       "       [ 1.37460672,  0.96076892,  0.10979693,  1.03046381,  0.64770088],\n",
       "       [ 0.04150785,  0.96076892,  0.10979693,  1.03046381, -1.07759787],\n",
       "       [ 0.9504389 , -1.040833  , -1.11016894, -0.97043679, -0.38694634],\n",
       "       [ 1.43520212, -1.040833  ,  1.32976279,  1.03046381,  1.53772151],\n",
       "       [-0.9280186 ,  0.96076892, -1.11016894, -0.97043679, -0.4495292 ],\n",
       "       [-1.65516344,  0.96076892,  1.32976279,  1.03046381, -0.73290214],\n",
       "       [ 0.58686648,  0.96076892,  1.32976279, -0.97043679,  1.20282622],\n",
       "       [-1.59456803, -1.040833  , -1.11016894,  1.03046381,  1.14934378],\n",
       "       [ 1.55639293,  0.96076892, -1.11016894, -0.97043679, -0.2939821 ],\n",
       "       [-0.988614  , -1.040833  ,  1.32976279, -0.97043679,  0.50517438],\n",
       "       [-1.23099561, -1.040833  ,  1.32976279, -0.97043679, -0.76468359],\n",
       "       [-0.20087376, -1.040833  ,  1.32976279,  1.03046381,  0.95739502],\n",
       "       [-0.80682779,  0.96076892, -1.11016894,  1.03046381,  0.14031772],\n",
       "       [-1.10980481,  0.96076892,  0.10979693,  1.03046381,  0.67794226],\n",
       "       [-0.50385078, -1.040833  , -1.11016894, -0.97043679, -0.6816598 ],\n",
       "       [-1.10980481, -1.040833  , -1.11016894,  1.03046381,  0.43321109],\n",
       "       [-1.53397263, -1.040833  , -1.11016894, -0.97043679, -0.38554628],\n",
       "       [-0.74623239, -1.040833  ,  0.10979693,  1.03046381, -0.73178208],\n",
       "       [ 0.9504389 ,  0.96076892, -1.11016894, -0.97043679, -0.29860231],\n",
       "       [ 1.19282051,  0.96076892,  1.32976279, -0.97043679, -1.16286176],\n",
       "       [-0.74623239, -1.040833  ,  0.10979693, -0.97043679, -0.88970929],\n",
       "       [-0.38265997, -1.040833  , -1.11016894,  1.03046381, -0.66373898],\n",
       "       [ 0.16269866, -1.040833  ,  0.10979693, -0.97043679, -0.84000702],\n",
       "       [ 0.88984349,  0.96076892, -1.11016894, -0.97043679, -0.29846231],\n",
       "       [ 0.40508027, -1.040833  ,  1.32976279, -0.97043679, -0.34578447],\n",
       "       [ 1.49579753,  0.96076892,  0.10979693, -0.97043679, -0.08243244],\n",
       "       [-0.44325537, -1.040833  , -1.11016894,  1.03046381,  0.98343621],\n",
       "       [ 0.34448487, -1.040833  ,  1.32976279,  1.03046381,  0.16019863],\n",
       "       [ 1.0716297 ,  0.96076892,  1.32976279, -0.97043679,  0.07381469],\n",
       "       [-0.20087376,  0.96076892, -1.11016894,  1.03046381, -0.1275145 ],\n",
       "       [-0.9280186 , -1.040833  , -1.11016894, -0.97043679,  1.87373685],\n",
       "       [-0.14027836, -1.040833  ,  0.10979693,  1.03046381,  1.8486757 ],\n",
       "       [ 0.70805729,  0.96076892,  0.10979693, -0.97043679, -0.1472554 ],\n",
       "       [-0.50385078,  0.96076892,  0.10979693,  1.03046381, -0.65001835],\n",
       "       [ 0.82924809, -1.040833  ,  0.10979693, -0.97043679,  2.7424051 ],\n",
       "       [ 0.70805729, -1.040833  , -1.11016894, -0.97043679,  1.30601093],\n",
       "       [-1.47337723,  0.96076892, -1.11016894,  1.03046381,  2.7402364 ],\n",
       "       [-1.77635424, -1.040833  , -1.11016894,  1.03046381,  0.09215552],\n",
       "       [-0.80682779,  0.96076892, -1.11016894,  1.03046381, -0.5874355 ],\n",
       "       [ 0.04150785, -1.040833  , -1.11016894, -0.97043679, -0.44980921],\n",
       "       [-0.988614  , -1.040833  ,  0.10979693, -0.97043679, -0.41158747],\n",
       "       [ 0.70805729,  0.96076892,  1.32976279, -0.97043679, -0.99415406],\n",
       "       [-1.35218642,  0.96076892, -1.11016894,  1.03046381,  1.71188946],\n",
       "       [-0.44325537,  0.96076892,  0.10979693,  1.03046381, -0.99387405],\n",
       "       [-1.35218642,  0.96076892,  1.32976279, -0.97043679, -0.57595497],\n",
       "       [-0.14027836,  0.96076892,  0.10979693, -0.97043679,  0.55249654],\n",
       "       [ 1.67758373,  0.96076892, -1.11016894,  1.03046381, -0.89460952],\n",
       "       [-1.29159102,  0.96076892,  1.32976279, -0.97043679,  0.10965632],\n",
       "       [ 0.34448487,  0.96076892, -1.11016894, -0.97043679, -1.20080349],\n",
       "       [ 0.16269866, -1.040833  ,  1.32976279,  1.03046381, -1.30186851],\n",
       "       [-0.56444618,  0.96076892,  0.10979693,  1.03046381, -0.96559276],\n",
       "       [ 1.25341591, -1.040833  ,  0.10979693,  1.03046381, -0.32170337],\n",
       "       [-1.47337723, -1.040833  ,  1.32976279,  1.03046381, -0.95005205],\n",
       "       [ 0.40508027,  0.96076892, -1.11016894, -0.97043679,  0.31196556],\n",
       "       [ 1.37460672,  0.96076892,  1.32976279,  1.03046381, -0.91743056],\n",
       "       [-0.26146916, -1.040833  ,  1.32976279, -0.97043679, -0.83496679],\n",
       "       [-0.74623239, -1.040833  , -1.11016894,  1.03046381, -0.80850559],\n",
       "       [ 1.0110343 , -1.040833  , -1.11016894, -0.97043679,  1.31721144],\n",
       "       [-0.988614  ,  0.96076892,  1.32976279, -0.97043679,  1.5396816 ],\n",
       "       [-1.77635424,  0.96076892, -1.11016894,  1.03046381,  0.1594986 ],\n",
       "       [-0.62504158,  0.96076892,  1.32976279, -0.97043679,  0.89453215],\n",
       "       [-0.50385078, -1.040833  ,  1.32976279, -0.97043679,  0.0960757 ],\n",
       "       [ 0.52627108, -1.040833  , -1.11016894,  1.03046381, -0.50007151],\n",
       "       [-1.53397263, -1.040833  , -1.11016894,  1.03046381,  1.3863746 ],\n",
       "       [ 1.31401132,  0.96076892, -1.11016894, -0.97043679,  0.03923311],\n",
       "       [-0.56444618,  0.96076892,  1.32976279,  1.03046381, -1.15110122],\n",
       "       [ 0.16269866,  0.96076892,  0.10979693,  1.03046381,  2.446643  ],\n",
       "       [-0.74623239, -1.040833  ,  1.32976279, -0.97043679, -1.20262358],\n",
       "       [ 1.55639293, -1.040833  ,  1.32976279, -0.97043679,  0.61913958],\n",
       "       [ 0.46567567,  0.96076892,  0.10979693,  1.03046381,  2.35983903],\n",
       "       [ 0.28388946,  0.96076892,  0.10979693,  1.03046381, -0.34564446],\n",
       "       [-1.23099561,  0.96076892,  1.32976279, -0.97043679,  1.36075343],\n",
       "       [-0.14027836, -1.040833  , -1.11016894, -0.97043679,  0.69572307],\n",
       "       [ 1.79877454,  0.96076892,  0.10979693,  1.03046381, -0.57791506],\n",
       "       [ 0.64746188, -1.040833  , -1.11016894, -0.97043679, -0.71260121],\n",
       "       [-0.56444618, -1.040833  , -1.11016894, -0.97043679, -0.44420896],\n",
       "       [ 0.40508027,  0.96076892, -1.11016894,  1.03046381, -0.66135887],\n",
       "       [ 1.49579753, -1.040833  ,  1.32976279, -0.97043679, -0.84028704],\n",
       "       [ 0.28388946,  0.96076892, -1.11016894,  1.03046381, -1.30186851],\n",
       "       [ 1.19282051, -1.040833  ,  0.10979693,  1.03046381,  1.35445314],\n",
       "       [ 0.9504389 ,  0.96076892, -1.11016894,  1.03046381, -1.04245627],\n",
       "       [ 1.79877454,  0.96076892, -1.11016894,  1.03046381, -0.08831271],\n",
       "       [-0.32206457,  0.96076892, -1.11016894, -0.97043679, -0.8964296 ],\n",
       "       [ 1.0110343 ,  0.96076892,  1.32976279, -0.97043679, -0.92737101],\n",
       "       [-0.44325537, -1.040833  ,  0.10979693,  1.03046381, -0.56853463],\n",
       "       [-1.10980481, -1.040833  , -1.11016894,  1.03046381, -0.52639271],\n",
       "       [ 1.0110343 , -1.040833  ,  0.10979693,  1.03046381, -1.22180445],\n",
       "       [-1.35218642,  0.96076892,  0.10979693, -0.97043679, -1.10825927],\n",
       "       [ 0.28388946,  0.96076892, -1.11016894,  1.03046381, -1.03139576],\n",
       "       [ 1.43520212,  0.96076892, -1.11016894, -0.97043679, -0.708121  ],\n",
       "       [ 0.64746188,  0.96076892,  1.32976279,  1.03046381, -1.23286496],\n",
       "       [ 1.67758373, -1.040833  ,  0.10979693,  1.03046381, -0.19947779],\n",
       "       [-0.44325537,  0.96076892,  0.10979693,  1.03046381,  0.09201552],\n",
       "       [ 0.28388946,  0.96076892,  0.10979693, -0.97043679, -0.77420402],\n",
       "       [-0.80682779,  0.96076892, -1.11016894,  1.03046381, -0.67759961],\n",
       "       [ 0.52627108,  0.96076892,  0.10979693, -0.97043679,  0.96551539],\n",
       "       [ 0.88984349, -1.040833  ,  0.10979693, -0.97043679, -0.78722462],\n",
       "       [-0.62504158, -1.040833  ,  0.10979693,  1.03046381, -0.44014877],\n",
       "       [-0.8674232 , -1.040833  ,  1.32976279, -0.97043679, -0.78736462],\n",
       "       [ 0.76865269, -1.040833  , -1.11016894,  1.03046381, -0.8570878 ],\n",
       "       [-0.07968296,  0.96076892,  1.32976279,  1.03046381, -0.44910918],\n",
       "       [-1.41278182, -1.040833  , -1.11016894,  1.03046381,  1.75921162],\n",
       "       [-1.71575884,  0.96076892, -1.11016894,  1.03046381,  0.41165011],\n",
       "       [-0.38265997,  0.96076892,  0.10979693, -0.97043679,  0.31196556],\n",
       "       [ 0.82924809, -1.040833  ,  0.10979693, -0.97043679,  1.48101892],\n",
       "       [ 0.76865269, -1.040833  ,  1.32976279, -0.97043679, -0.25912051],\n",
       "       [ 0.40508027, -1.040833  ,  0.10979693,  1.03046381,  0.97111564],\n",
       "       [-1.47337723, -1.040833  , -1.11016894, -0.97043679, -0.67269939],\n",
       "       [-0.988614  , -1.040833  ,  1.32976279, -0.97043679, -0.44630905],\n",
       "       [ 0.04150785,  0.96076892,  0.10979693,  1.03046381, -0.84700734],\n",
       "       [-0.32206457, -1.040833  ,  1.32976279,  1.03046381,  0.16215872],\n",
       "       [-0.20087376, -1.040833  ,  0.10979693,  1.03046381,  0.3741284 ],\n",
       "       [-0.14027836,  0.96076892, -1.11016894,  1.03046381, -0.46212978],\n",
       "       [ 1.73817914, -1.040833  , -1.11016894, -0.97043679,  0.3193859 ],\n",
       "       [ 0.22329406,  0.96076892, -1.11016894,  1.03046381, -0.7869446 ],\n",
       "       [-1.17040021,  0.96076892,  1.32976279, -0.97043679,  0.41221013],\n",
       "       [-0.32206457,  0.96076892,  1.32976279, -0.97043679, -0.01368931],\n",
       "       [ 1.37460672, -1.040833  ,  1.32976279, -0.97043679, -0.02460981],\n",
       "       [-1.35218642, -1.040833  , -1.11016894,  1.03046381,  0.94521446],\n",
       "       [ 0.88984349, -1.040833  ,  1.32976279, -0.97043679, -0.30560263],\n",
       "       [-1.47337723, -1.040833  ,  0.10979693,  1.03046381, -0.61333668],\n",
       "       [-0.50385078, -1.040833  , -1.11016894,  1.03046381, -0.08075237],\n",
       "       [-1.59456803, -1.040833  , -1.11016894, -0.97043679,  2.7424051 ],\n",
       "       [ 0.76865269, -1.040833  ,  1.32976279,  1.03046381,  1.37573411],\n",
       "       [ 1.55639293,  0.96076892, -1.11016894, -0.97043679, -0.87052842],\n",
       "       [ 0.16269866,  0.96076892, -1.11016894, -0.97043679, -0.79296488],\n",
       "       [ 1.25341591,  0.96076892, -1.11016894,  1.03046381,  2.65035229],\n",
       "       [ 1.19282051,  0.96076892, -1.11016894,  1.03046381,  0.68116241],\n",
       "       [ 0.82924809,  0.96076892, -1.11016894, -0.97043679,  0.40941001],\n",
       "       [-1.29159102,  0.96076892, -1.11016894, -0.97043679, -1.12786016],\n",
       "       [ 1.67758373,  0.96076892,  0.10979693, -0.97043679,  0.03405287],\n",
       "       [ 1.67758373,  0.96076892,  0.10979693, -0.97043679, -1.3017481 ],\n",
       "       [ 0.10210325, -1.040833  , -1.11016894, -0.97043679,  2.60681031],\n",
       "       [ 0.70805729, -1.040833  ,  0.10979693, -0.97043679, -0.62999744],\n",
       "       [-1.71575884,  0.96076892,  0.10979693, -0.97043679, -0.56853463],\n",
       "       [ 0.46567567,  0.96076892,  1.32976279, -0.97043679, -0.86422813],\n",
       "       [-1.29159102,  0.96076892,  1.32976279,  1.03046381, -0.28656176],\n",
       "       [-0.26146916, -1.040833  ,  0.10979693,  1.03046381, -0.66051883]])"
      ]
     },
     "execution_count": 28,
     "metadata": {},
     "output_type": "execute_result"
    }
   ],
   "source": [
    "# Standard Scaling\n",
    "scaler=StandardScaler()\n",
    "x_scaled=scaler.fit_transform(x)\n",
    "x_scaled"
   ]
  },
  {
   "cell_type": "code",
   "execution_count": 29,
   "metadata": {},
   "outputs": [],
   "source": [
    "# Train & Test Spliting\n",
    "x_train,x_test,y_train,y_test=train_test_split(x_scaled, y, test_size=0.25, random_state=0)"
   ]
  },
  {
   "cell_type": "code",
   "execution_count": 30,
   "metadata": {},
   "outputs": [
    {
     "data": {
      "text/plain": [
       "RandomForestClassifier(n_estimators=50)"
      ]
     },
     "execution_count": 30,
     "metadata": {},
     "output_type": "execute_result"
    }
   ],
   "source": [
    "# Model Fitting\n",
    "rf.fit(x_train, y_train)"
   ]
  },
  {
   "cell_type": "code",
   "execution_count": 31,
   "metadata": {},
   "outputs": [
    {
     "name": "stdout",
     "output_type": "stream",
     "text": [
      "Train Score: 1.0\n",
      "Test Score:  1.0\n"
     ]
    }
   ],
   "source": [
    "# Accuracy Testing\n",
    "rftrs=rf.score(x_train,y_train)\n",
    "print('Train Score:',rftrs)\n",
    "rftes=rf.score(x_test,y_test)\n",
    "print('Test Score: ',rftes)"
   ]
  },
  {
   "cell_type": "markdown",
   "metadata": {},
   "source": [
    "## This model is perfect one, we can proceed with other models with scaling confirmation."
   ]
  },
  {
   "cell_type": "markdown",
   "metadata": {},
   "source": [
    "### #6.3 With Min Max Scaling:"
   ]
  },
  {
   "cell_type": "code",
   "execution_count": 32,
   "metadata": {},
   "outputs": [
    {
     "data": {
      "text/plain": [
       "array([[1.35593220e-01, 0.00000000e+00, 0.00000000e+00, 0.00000000e+00,\n",
       "        6.43447857e-01],\n",
       "       [5.42372881e-01, 1.00000000e+00, 5.00000000e-01, 0.00000000e+00,\n",
       "        2.18956704e-01],\n",
       "       [5.42372881e-01, 1.00000000e+00, 5.00000000e-01, 0.00000000e+00,\n",
       "        1.15828410e-01],\n",
       "       [2.20338983e-01, 0.00000000e+00, 1.00000000e+00, 0.00000000e+00,\n",
       "        3.56521333e-02],\n",
       "       [7.79661017e-01, 0.00000000e+00, 5.00000000e-01, 0.00000000e+00,\n",
       "        3.90317918e-01],\n",
       "       [1.18644068e-01, 0.00000000e+00, 1.00000000e+00, 0.00000000e+00,\n",
       "        6.36584408e-02],\n",
       "       [5.76271186e-01, 0.00000000e+00, 1.00000000e+00, 0.00000000e+00,\n",
       "        3.29112539e-01],\n",
       "       [4.40677966e-01, 1.00000000e+00, 5.00000000e-01, 0.00000000e+00,\n",
       "        1.47781218e-01],\n",
       "       [7.62711864e-01, 1.00000000e+00, 1.00000000e+00, 0.00000000e+00,\n",
       "        2.90893796e-01],\n",
       "       [4.74576271e-01, 1.00000000e+00, 5.00000000e-01, 1.00000000e+00,\n",
       "        4.36187334e-01],\n",
       "       [5.42372881e-01, 0.00000000e+00, 5.00000000e-01, 0.00000000e+00,\n",
       "        1.73052670e-01],\n",
       "       [3.22033898e-01, 0.00000000e+00, 0.00000000e+00, 1.00000000e+00,\n",
       "        4.30336820e-01],\n",
       "       [4.74576271e-01, 1.00000000e+00, 5.00000000e-01, 0.00000000e+00,\n",
       "        2.97990573e-01],\n",
       "       [1.00000000e+00, 0.00000000e+00, 5.00000000e-01, 0.00000000e+00,\n",
       "        4.90676738e-01],\n",
       "       [5.93220339e-01, 0.00000000e+00, 1.00000000e+00, 0.00000000e+00,\n",
       "        2.05455518e-01],\n",
       "       [1.69491525e-02, 0.00000000e+00, 0.00000000e+00, 1.00000000e+00,\n",
       "        3.02837153e-01],\n",
       "       [9.15254237e-01, 1.00000000e+00, 5.00000000e-01, 1.00000000e+00,\n",
       "        1.62251721e-01],\n",
       "       [4.74576271e-01, 1.00000000e+00, 0.00000000e+00, 0.00000000e+00,\n",
       "        2.49386302e-01],\n",
       "       [1.35593220e-01, 1.00000000e+00, 5.00000000e-01, 0.00000000e+00,\n",
       "        1.83429198e-02],\n",
       "       [2.88135593e-01, 0.00000000e+00, 0.00000000e+00, 1.00000000e+00,\n",
       "        6.64876663e-01],\n",
       "       [7.11864407e-01, 1.00000000e+00, 5.00000000e-01, 1.00000000e+00,\n",
       "        4.27878912e-01],\n",
       "       [8.13559322e-01, 1.00000000e+00, 1.00000000e+00, 0.00000000e+00,\n",
       "        6.62903413e-01],\n",
       "       [5.42372881e-01, 1.00000000e+00, 5.00000000e-01, 1.00000000e+00,\n",
       "        8.23913717e-01],\n",
       "       [5.59322034e-01, 0.00000000e+00, 5.00000000e-01, 0.00000000e+00,\n",
       "        2.86220308e-01],\n",
       "       [3.05084746e-01, 0.00000000e+00, 5.00000000e-01, 0.00000000e+00,\n",
       "        9.24930287e-01],\n",
       "       [2.20338983e-01, 0.00000000e+00, 0.00000000e+00, 1.00000000e+00,\n",
       "        4.16835633e-01],\n",
       "       [2.71186441e-01, 1.00000000e+00, 0.00000000e+00, 0.00000000e+00,\n",
       "        8.16920795e-01],\n",
       "       [5.76271186e-01, 0.00000000e+00, 1.00000000e+00, 1.00000000e+00,\n",
       "        9.04531033e-02],\n",
       "       [4.06779661e-01, 0.00000000e+00, 5.00000000e-01, 1.00000000e+00,\n",
       "        5.51432078e-01],\n",
       "       [5.08474576e-01, 1.00000000e+00, 5.00000000e-01, 0.00000000e+00,\n",
       "        3.87133023e-01],\n",
       "       [5.08474576e-02, 0.00000000e+00, 1.00000000e+00, 1.00000000e+00,\n",
       "        6.86088758e-02],\n",
       "       [1.00000000e+00, 1.00000000e+00, 0.00000000e+00, 0.00000000e+00,\n",
       "        9.68921307e-02],\n",
       "       [5.76271186e-01, 1.00000000e+00, 5.00000000e-01, 1.00000000e+00,\n",
       "        1.46984995e-01],\n",
       "       [8.47457627e-01, 0.00000000e+00, 0.00000000e+00, 1.00000000e+00,\n",
       "        8.69194620e-01],\n",
       "       [6.44067797e-01, 1.00000000e+00, 1.00000000e+00, 0.00000000e+00,\n",
       "        2.54959869e-01],\n",
       "       [5.25423729e-01, 1.00000000e+00, 1.00000000e+00, 1.00000000e+00,\n",
       "        1.78928802e-02],\n",
       "       [2.88135593e-01, 1.00000000e+00, 0.00000000e+00, 1.00000000e+00,\n",
       "        9.26686826e-02],\n",
       "       [4.06779661e-01, 1.00000000e+00, 5.00000000e-01, 1.00000000e+00,\n",
       "        2.48209275e-01],\n",
       "       [4.06779661e-01, 0.00000000e+00, 1.00000000e+00, 1.00000000e+00,\n",
       "        1.01807947e-01],\n",
       "       [0.00000000e+00, 1.00000000e+00, 1.00000000e+00, 0.00000000e+00,\n",
       "        8.01714305e-02],\n",
       "       [9.83050847e-01, 0.00000000e+00, 1.00000000e+00, 0.00000000e+00,\n",
       "        4.31098425e-01],\n",
       "       [7.28813559e-01, 0.00000000e+00, 0.00000000e+00, 1.00000000e+00,\n",
       "        2.58629422e-01],\n",
       "       [5.93220339e-01, 1.00000000e+00, 1.00000000e+00, 1.00000000e+00,\n",
       "        3.12322602e-01],\n",
       "       [1.35593220e-01, 1.00000000e+00, 1.00000000e+00, 0.00000000e+00,\n",
       "        1.90119555e-01],\n",
       "       [5.93220339e-01, 0.00000000e+00, 1.00000000e+00, 1.00000000e+00,\n",
       "        1.91331200e-01],\n",
       "       [8.64406780e-01, 0.00000000e+00, 1.00000000e+00, 1.00000000e+00,\n",
       "        4.63492272e-02],\n",
       "       [3.72881356e-01, 0.00000000e+00, 0.00000000e+00, 0.00000000e+00,\n",
       "        2.18887468e-01],\n",
       "       [8.98305085e-01, 1.00000000e+00, 5.00000000e-01, 0.00000000e+00,\n",
       "        1.21955872e-01],\n",
       "       [1.35593220e-01, 1.00000000e+00, 1.00000000e+00, 0.00000000e+00,\n",
       "        8.62617118e-01],\n",
       "       [2.20338983e-01, 0.00000000e+00, 5.00000000e-01, 0.00000000e+00,\n",
       "        4.51004021e-01],\n",
       "       [7.28813559e-01, 0.00000000e+00, 0.00000000e+00, 0.00000000e+00,\n",
       "        4.37849019e-01],\n",
       "       [8.81355932e-01, 1.00000000e+00, 1.00000000e+00, 1.00000000e+00,\n",
       "        1.42969257e-01],\n",
       "       [7.96610169e-01, 1.00000000e+00, 5.00000000e-01, 1.00000000e+00,\n",
       "        7.06730341e-01],\n",
       "       [1.52542373e-01, 0.00000000e+00, 0.00000000e+00, 1.00000000e+00,\n",
       "        4.04649947e-01],\n",
       "       [8.98305085e-01, 0.00000000e+00, 0.00000000e+00, 1.00000000e+00,\n",
       "        1.18424792e-01],\n",
       "       [1.86440678e-01, 0.00000000e+00, 5.00000000e-01, 0.00000000e+00,\n",
       "        2.55894566e-01],\n",
       "       [8.47457627e-01, 1.00000000e+00, 0.00000000e+00, 1.00000000e+00,\n",
       "        1.58270602e-01],\n",
       "       [4.23728814e-01, 1.00000000e+00, 0.00000000e+00, 0.00000000e+00,\n",
       "        7.28989990e-01],\n",
       "       [7.62711864e-01, 1.00000000e+00, 1.00000000e+00, 1.00000000e+00,\n",
       "        1.15032186e-01],\n",
       "       [3.22033898e-01, 1.00000000e+00, 0.00000000e+00, 0.00000000e+00,\n",
       "        4.13166080e-01],\n",
       "       [3.89830508e-01, 0.00000000e+00, 5.00000000e-01, 1.00000000e+00,\n",
       "        7.99923147e-01],\n",
       "       [1.52542373e-01, 1.00000000e+00, 0.00000000e+00, 1.00000000e+00,\n",
       "        9.37072354e-02],\n",
       "       [8.81355932e-01, 1.00000000e+00, 5.00000000e-01, 1.00000000e+00,\n",
       "        4.82056750e-01],\n",
       "       [5.08474576e-01, 1.00000000e+00, 5.00000000e-01, 1.00000000e+00,\n",
       "        5.54538735e-02],\n",
       "       [7.62711864e-01, 0.00000000e+00, 0.00000000e+00, 0.00000000e+00,\n",
       "        2.26226574e-01],\n",
       "       [8.98305085e-01, 0.00000000e+00, 1.00000000e+00, 1.00000000e+00,\n",
       "        7.02126091e-01],\n",
       "       [2.37288136e-01, 1.00000000e+00, 0.00000000e+00, 0.00000000e+00,\n",
       "        2.10752137e-01],\n",
       "       [3.38983051e-02, 1.00000000e+00, 1.00000000e+00, 1.00000000e+00,\n",
       "        1.40684441e-01],\n",
       "       [6.61016949e-01, 1.00000000e+00, 1.00000000e+00, 0.00000000e+00,\n",
       "        6.19318813e-01],\n",
       "       [5.08474576e-02, 0.00000000e+00, 0.00000000e+00, 1.00000000e+00,\n",
       "        6.06094574e-01],\n",
       "       [9.32203390e-01, 1.00000000e+00, 0.00000000e+00, 0.00000000e+00,\n",
       "        2.49213210e-01],\n",
       "       [2.20338983e-01, 0.00000000e+00, 1.00000000e+00, 0.00000000e+00,\n",
       "        4.46815191e-01],\n",
       "       [1.52542373e-01, 0.00000000e+00, 1.00000000e+00, 0.00000000e+00,\n",
       "        1.32826058e-01],\n",
       "       [4.40677966e-01, 0.00000000e+00, 1.00000000e+00, 1.00000000e+00,\n",
       "        5.58632711e-01],\n",
       "       [2.71186441e-01, 1.00000000e+00, 0.00000000e+00, 1.00000000e+00,\n",
       "        3.56599570e-01],\n",
       "       [1.86440678e-01, 1.00000000e+00, 5.00000000e-01, 1.00000000e+00,\n",
       "        4.89534330e-01],\n",
       "       [3.55932203e-01, 0.00000000e+00, 0.00000000e+00, 0.00000000e+00,\n",
       "        1.53354785e-01],\n",
       "       [1.86440678e-01, 0.00000000e+00, 0.00000000e+00, 1.00000000e+00,\n",
       "        4.29021320e-01],\n",
       "       [6.77966102e-02, 0.00000000e+00, 0.00000000e+00, 0.00000000e+00,\n",
       "        2.26572758e-01],\n",
       "       [2.88135593e-01, 0.00000000e+00, 5.00000000e-01, 1.00000000e+00,\n",
       "        1.40961388e-01],\n",
       "       [7.62711864e-01, 1.00000000e+00, 0.00000000e+00, 0.00000000e+00,\n",
       "        2.48070802e-01],\n",
       "       [8.30508475e-01, 1.00000000e+00, 1.00000000e+00, 0.00000000e+00,\n",
       "        3.43712515e-02],\n",
       "       [2.88135593e-01, 0.00000000e+00, 5.00000000e-01, 0.00000000e+00,\n",
       "        1.01911803e-01],\n",
       "       [3.89830508e-01, 0.00000000e+00, 0.00000000e+00, 1.00000000e+00,\n",
       "        1.57785944e-01],\n",
       "       [5.42372881e-01, 0.00000000e+00, 5.00000000e-01, 0.00000000e+00,\n",
       "        1.14201344e-01],\n",
       "       [7.45762712e-01, 1.00000000e+00, 0.00000000e+00, 0.00000000e+00,\n",
       "        2.48105420e-01],\n",
       "       [6.10169492e-01, 0.00000000e+00, 1.00000000e+00, 0.00000000e+00,\n",
       "        2.36404392e-01],\n",
       "       [9.15254237e-01, 1.00000000e+00, 5.00000000e-01, 0.00000000e+00,\n",
       "        3.01521653e-01],\n",
       "       [3.72881356e-01, 0.00000000e+00, 0.00000000e+00, 1.00000000e+00,\n",
       "        5.65071738e-01],\n",
       "       [5.93220339e-01, 0.00000000e+00, 1.00000000e+00, 1.00000000e+00,\n",
       "        3.61515387e-01],\n",
       "       [7.96610169e-01, 1.00000000e+00, 1.00000000e+00, 0.00000000e+00,\n",
       "        3.40155818e-01],\n",
       "       [4.40677966e-01, 1.00000000e+00, 0.00000000e+00, 1.00000000e+00,\n",
       "        2.90374519e-01],\n",
       "       [2.37288136e-01, 0.00000000e+00, 0.00000000e+00, 0.00000000e+00,\n",
       "        7.85210316e-01],\n",
       "       [4.57627119e-01, 0.00000000e+00, 5.00000000e-01, 1.00000000e+00,\n",
       "        7.79013617e-01],\n",
       "       [6.94915254e-01, 1.00000000e+00, 5.00000000e-01, 0.00000000e+00,\n",
       "        2.85493321e-01],\n",
       "       [3.55932203e-01, 1.00000000e+00, 5.00000000e-01, 1.00000000e+00,\n",
       "        1.61178550e-01],\n",
       "       [7.28813559e-01, 0.00000000e+00, 5.00000000e-01, 0.00000000e+00,\n",
       "        1.00000000e+00],\n",
       "       [6.94915254e-01, 0.00000000e+00, 0.00000000e+00, 0.00000000e+00,\n",
       "        6.44832594e-01],\n",
       "       [8.47457627e-02, 1.00000000e+00, 0.00000000e+00, 1.00000000e+00,\n",
       "        9.99463761e-01],\n",
       "       [0.00000000e+00, 0.00000000e+00, 0.00000000e+00, 1.00000000e+00,\n",
       "        3.44690831e-01],\n",
       "       [2.71186441e-01, 1.00000000e+00, 0.00000000e+00, 1.00000000e+00,\n",
       "        1.76652987e-01],\n",
       "       [5.08474576e-01, 0.00000000e+00, 0.00000000e+00, 0.00000000e+00,\n",
       "        2.10682900e-01],\n",
       "       [2.20338983e-01, 0.00000000e+00, 5.00000000e-01, 0.00000000e+00,\n",
       "        2.20133731e-01],\n",
       "       [6.94915254e-01, 1.00000000e+00, 1.00000000e+00, 0.00000000e+00,\n",
       "        7.60864561e-02],\n",
       "       [1.18644068e-01, 1.00000000e+00, 0.00000000e+00, 1.00000000e+00,\n",
       "        7.45191414e-01],\n",
       "       [3.72881356e-01, 1.00000000e+00, 5.00000000e-01, 1.00000000e+00,\n",
       "        7.61556929e-02],\n",
       "       [1.18644068e-01, 1.00000000e+00, 1.00000000e+00, 0.00000000e+00,\n",
       "        1.79491698e-01],\n",
       "       [4.57627119e-01, 1.00000000e+00, 5.00000000e-01, 0.00000000e+00,\n",
       "        4.58516220e-01],\n",
       "       [9.66101695e-01, 1.00000000e+00, 0.00000000e+00, 1.00000000e+00,\n",
       "        1.00700158e-01],\n",
       "       [1.35593220e-01, 1.00000000e+00, 1.00000000e+00, 0.00000000e+00,\n",
       "        3.49018135e-01],\n",
       "       [5.93220339e-01, 1.00000000e+00, 0.00000000e+00, 0.00000000e+00,\n",
       "        2.49896577e-02],\n",
       "       [5.42372881e-01, 0.00000000e+00, 1.00000000e+00, 1.00000000e+00,\n",
       "        0.00000000e+00],\n",
       "       [3.38983051e-01, 1.00000000e+00, 5.00000000e-01, 1.00000000e+00,\n",
       "        8.31486152e-02],\n",
       "       [8.47457627e-01, 0.00000000e+00, 5.00000000e-01, 1.00000000e+00,\n",
       "        2.42358761e-01],\n",
       "       [8.47457627e-02, 0.00000000e+00, 1.00000000e+00, 1.00000000e+00,\n",
       "        8.69912606e-02],\n",
       "       [6.10169492e-01, 1.00000000e+00, 0.00000000e+00, 0.00000000e+00,\n",
       "        3.99041762e-01],\n",
       "       [8.81355932e-01, 1.00000000e+00, 1.00000000e+00, 1.00000000e+00,\n",
       "        9.50573541e-02],\n",
       "       [4.23728814e-01, 0.00000000e+00, 1.00000000e+00, 0.00000000e+00,\n",
       "        1.15447608e-01],\n",
       "       [2.88135593e-01, 0.00000000e+00, 0.00000000e+00, 1.00000000e+00,\n",
       "        1.21990490e-01],\n",
       "       [7.79661017e-01, 0.00000000e+00, 0.00000000e+00, 0.00000000e+00,\n",
       "        6.47602068e-01],\n",
       "       [2.20338983e-01, 1.00000000e+00, 1.00000000e+00, 0.00000000e+00,\n",
       "        7.02610749e-01],\n",
       "       [0.00000000e+00, 1.00000000e+00, 0.00000000e+00, 1.00000000e+00,\n",
       "        3.61342295e-01],\n",
       "       [3.22033898e-01, 1.00000000e+00, 1.00000000e+00, 0.00000000e+00,\n",
       "        5.43089037e-01],\n",
       "       [3.55932203e-01, 0.00000000e+00, 1.00000000e+00, 0.00000000e+00,\n",
       "        3.45660147e-01],\n",
       "       [6.44067797e-01, 0.00000000e+00, 0.00000000e+00, 1.00000000e+00,\n",
       "        1.98254885e-01],\n",
       "       [6.77966102e-02, 0.00000000e+00, 0.00000000e+00, 1.00000000e+00,\n",
       "        6.64703571e-01],\n",
       "       [8.64406780e-01, 1.00000000e+00, 0.00000000e+00, 0.00000000e+00,\n",
       "        3.31605066e-01],\n",
       "       [3.38983051e-01, 1.00000000e+00, 1.00000000e+00, 1.00000000e+00,\n",
       "        3.72791993e-02],\n",
       "       [5.42372881e-01, 1.00000000e+00, 5.00000000e-01, 1.00000000e+00,\n",
       "        9.26868919e-01],\n",
       "       [2.88135593e-01, 0.00000000e+00, 1.00000000e+00, 0.00000000e+00,\n",
       "        2.45396182e-02],\n",
       "       [9.32203390e-01, 0.00000000e+00, 1.00000000e+00, 0.00000000e+00,\n",
       "        4.74994591e-01],\n",
       "       [6.27118644e-01, 1.00000000e+00, 5.00000000e-01, 1.00000000e+00,\n",
       "        9.05405494e-01],\n",
       "       [5.76271186e-01, 1.00000000e+00, 5.00000000e-01, 1.00000000e+00,\n",
       "        2.36439010e-01],\n",
       "       [1.52542373e-01, 1.00000000e+00, 1.00000000e+00, 0.00000000e+00,\n",
       "        6.58368399e-01],\n",
       "       [4.57627119e-01, 0.00000000e+00, 0.00000000e+00, 0.00000000e+00,\n",
       "        4.93930870e-01],\n",
       "       [1.00000000e+00, 1.00000000e+00, 5.00000000e-01, 1.00000000e+00,\n",
       "        1.79007040e-01],\n",
       "       [6.77966102e-01, 0.00000000e+00, 0.00000000e+00, 0.00000000e+00,\n",
       "        1.45704113e-01],\n",
       "       [3.38983051e-01, 0.00000000e+00, 0.00000000e+00, 0.00000000e+00,\n",
       "        2.12067637e-01],\n",
       "       [6.10169492e-01, 1.00000000e+00, 0.00000000e+00, 1.00000000e+00,\n",
       "        1.58374457e-01],\n",
       "       [9.15254237e-01, 0.00000000e+00, 1.00000000e+00, 0.00000000e+00,\n",
       "        1.14132107e-01],\n",
       "       [5.76271186e-01, 1.00000000e+00, 0.00000000e+00, 1.00000000e+00,\n",
       "        0.00000000e+00],\n",
       "       [8.30508475e-01, 0.00000000e+00, 5.00000000e-01, 1.00000000e+00,\n",
       "        6.56810570e-01],\n",
       "       [7.62711864e-01, 1.00000000e+00, 0.00000000e+00, 1.00000000e+00,\n",
       "        6.41430987e-02],\n",
       "       [1.00000000e+00, 1.00000000e+00, 0.00000000e+00, 1.00000000e+00,\n",
       "        3.00067679e-01],\n",
       "       [4.06779661e-01, 1.00000000e+00, 0.00000000e+00, 0.00000000e+00,\n",
       "        1.00250118e-01],\n",
       "       [7.79661017e-01, 1.00000000e+00, 1.00000000e+00, 0.00000000e+00,\n",
       "        9.25994458e-02],\n",
       "       [3.72881356e-01, 0.00000000e+00, 5.00000000e-01, 1.00000000e+00,\n",
       "        1.81326474e-01],\n",
       "       [1.86440678e-01, 0.00000000e+00, 0.00000000e+00, 1.00000000e+00,\n",
       "        1.91746621e-01],\n",
       "       [7.79661017e-01, 0.00000000e+00, 5.00000000e-01, 1.00000000e+00,\n",
       "        1.97968937e-02],\n",
       "       [1.18644068e-01, 1.00000000e+00, 5.00000000e-01, 0.00000000e+00,\n",
       "        4.78724380e-02],\n",
       "       [5.76271186e-01, 1.00000000e+00, 0.00000000e+00, 1.00000000e+00,\n",
       "        6.68779545e-02],\n",
       "       [8.98305085e-01, 1.00000000e+00, 0.00000000e+00, 0.00000000e+00,\n",
       "        1.46811903e-01],\n",
       "       [6.77966102e-01, 1.00000000e+00, 1.00000000e+00, 1.00000000e+00,\n",
       "        1.70620380e-02],\n",
       "       [9.66101695e-01, 0.00000000e+00, 5.00000000e-01, 1.00000000e+00,\n",
       "        2.72580648e-01],\n",
       "       [3.72881356e-01, 1.00000000e+00, 5.00000000e-01, 1.00000000e+00,\n",
       "        3.44656213e-01],\n",
       "       [5.76271186e-01, 1.00000000e+00, 5.00000000e-01, 0.00000000e+00,\n",
       "        1.30472005e-01],\n",
       "       [2.71186441e-01, 1.00000000e+00, 0.00000000e+00, 1.00000000e+00,\n",
       "        1.54358720e-01],\n",
       "       [6.44067797e-01, 1.00000000e+00, 5.00000000e-01, 0.00000000e+00,\n",
       "        5.60640579e-01],\n",
       "       [7.45762712e-01, 0.00000000e+00, 5.00000000e-01, 0.00000000e+00,\n",
       "        1.27252491e-01],\n",
       "       [3.22033898e-01, 0.00000000e+00, 5.00000000e-01, 1.00000000e+00,\n",
       "        2.13071572e-01],\n",
       "       [2.54237288e-01, 0.00000000e+00, 1.00000000e+00, 0.00000000e+00,\n",
       "        1.27217873e-01],\n",
       "       [7.11864407e-01, 0.00000000e+00, 0.00000000e+00, 1.00000000e+00,\n",
       "        1.09977896e-01],\n",
       "       [4.74576271e-01, 1.00000000e+00, 1.00000000e+00, 1.00000000e+00,\n",
       "        2.10855993e-01],\n",
       "       [1.01694915e-01, 0.00000000e+00, 0.00000000e+00, 1.00000000e+00,\n",
       "        7.56892442e-01],\n",
       "       [1.69491525e-02, 1.00000000e+00, 0.00000000e+00, 1.00000000e+00,\n",
       "        4.23690082e-01],\n",
       "       [3.89830508e-01, 1.00000000e+00, 5.00000000e-01, 0.00000000e+00,\n",
       "        3.99041762e-01],\n",
       "       [7.28813559e-01, 0.00000000e+00, 5.00000000e-01, 0.00000000e+00,\n",
       "        6.88105628e-01],\n",
       "       [7.11864407e-01, 0.00000000e+00, 1.00000000e+00, 0.00000000e+00,\n",
       "        2.57833198e-01],\n",
       "       [6.10169492e-01, 0.00000000e+00, 5.00000000e-01, 1.00000000e+00,\n",
       "        5.62025316e-01],\n",
       "       [8.47457627e-02, 0.00000000e+00, 0.00000000e+00, 0.00000000e+00,\n",
       "        1.55570365e-01],\n",
       "       [2.20338983e-01, 0.00000000e+00, 1.00000000e+00, 0.00000000e+00,\n",
       "        2.11548361e-01],\n",
       "       [5.08474576e-01, 1.00000000e+00, 5.00000000e-01, 1.00000000e+00,\n",
       "        1.12470423e-01],\n",
       "       [4.06779661e-01, 0.00000000e+00, 1.00000000e+00, 1.00000000e+00,\n",
       "        3.62000045e-01],\n",
       "       [4.40677966e-01, 0.00000000e+00, 5.00000000e-01, 1.00000000e+00,\n",
       "        4.14412344e-01],\n",
       "       [4.57627119e-01, 1.00000000e+00, 0.00000000e+00, 1.00000000e+00,\n",
       "        2.07636479e-01],\n",
       "       [9.83050847e-01, 0.00000000e+00, 0.00000000e+00, 0.00000000e+00,\n",
       "        4.00876539e-01],\n",
       "       [5.59322034e-01, 1.00000000e+00, 0.00000000e+00, 1.00000000e+00,\n",
       "        1.27321728e-01],\n",
       "       [1.69491525e-01, 1.00000000e+00, 1.00000000e+00, 0.00000000e+00,\n",
       "        4.23828556e-01],\n",
       "       [4.06779661e-01, 1.00000000e+00, 1.00000000e+00, 0.00000000e+00,\n",
       "        3.18519301e-01],\n",
       "       [8.81355932e-01, 0.00000000e+00, 1.00000000e+00, 0.00000000e+00,\n",
       "        3.15819063e-01],\n",
       "       [1.18644068e-01, 0.00000000e+00, 0.00000000e+00, 1.00000000e+00,\n",
       "        5.55620907e-01],\n",
       "       [7.45762712e-01, 0.00000000e+00, 1.00000000e+00, 0.00000000e+00,\n",
       "        2.46339880e-01],\n",
       "       [8.47457627e-02, 0.00000000e+00, 5.00000000e-01, 1.00000000e+00,\n",
       "        1.70248578e-01],\n",
       "       [3.55932203e-01, 0.00000000e+00, 0.00000000e+00, 1.00000000e+00,\n",
       "        3.01937074e-01],\n",
       "       [5.08474576e-02, 0.00000000e+00, 0.00000000e+00, 0.00000000e+00,\n",
       "        1.00000000e+00],\n",
       "       [7.11864407e-01, 0.00000000e+00, 1.00000000e+00, 1.00000000e+00,\n",
       "        6.62072571e-01],\n",
       "       [9.32203390e-01, 1.00000000e+00, 0.00000000e+00, 0.00000000e+00,\n",
       "        1.06654527e-01],\n",
       "       [5.42372881e-01, 1.00000000e+00, 0.00000000e+00, 0.00000000e+00,\n",
       "        1.25833136e-01],\n",
       "       [8.47457627e-01, 1.00000000e+00, 0.00000000e+00, 1.00000000e+00,\n",
       "        9.77238730e-01],\n",
       "       [8.30508475e-01, 1.00000000e+00, 0.00000000e+00, 1.00000000e+00,\n",
       "        4.90330554e-01],\n",
       "       [7.28813559e-01, 1.00000000e+00, 0.00000000e+00, 0.00000000e+00,\n",
       "        4.23136187e-01],\n",
       "       [1.35593220e-01, 1.00000000e+00, 0.00000000e+00, 0.00000000e+00,\n",
       "        4.30258582e-02],\n",
       "       [9.66101695e-01, 1.00000000e+00, 5.00000000e-01, 0.00000000e+00,\n",
       "        3.30324184e-01],\n",
       "       [9.66101695e-01, 1.00000000e+00, 5.00000000e-01, 0.00000000e+00,\n",
       "        2.97718473e-05],\n",
       "       [5.25423729e-01, 0.00000000e+00, 0.00000000e+00, 0.00000000e+00,\n",
       "        9.66472400e-01],\n",
       "       [6.94915254e-01, 0.00000000e+00, 5.00000000e-01, 0.00000000e+00,\n",
       "        1.66128985e-01],\n",
       "       [1.69491525e-02, 1.00000000e+00, 5.00000000e-01, 0.00000000e+00,\n",
       "        1.81326474e-01],\n",
       "       [6.27118644e-01, 1.00000000e+00, 1.00000000e+00, 0.00000000e+00,\n",
       "        1.08212356e-01],\n",
       "       [1.35593220e-01, 1.00000000e+00, 1.00000000e+00, 1.00000000e+00,\n",
       "        2.51047986e-01],\n",
       "       [4.23728814e-01, 0.00000000e+00, 5.00000000e-01, 1.00000000e+00,\n",
       "        1.58582168e-01]])"
      ]
     },
     "execution_count": 32,
     "metadata": {},
     "output_type": "execute_result"
    }
   ],
   "source": [
    "# Min Max Scaling\n",
    "scaler=MinMaxScaler()\n",
    "x_scaled=scaler.fit_transform(x)\n",
    "x_scaled"
   ]
  },
  {
   "cell_type": "code",
   "execution_count": 33,
   "metadata": {},
   "outputs": [],
   "source": [
    "# Train & Test Spliting\n",
    "x_train,x_test,y_train,y_test=train_test_split(x_scaled, y, test_size=0.25, random_state=0)"
   ]
  },
  {
   "cell_type": "code",
   "execution_count": 34,
   "metadata": {},
   "outputs": [
    {
     "data": {
      "text/plain": [
       "RandomForestClassifier(n_estimators=50)"
      ]
     },
     "execution_count": 34,
     "metadata": {},
     "output_type": "execute_result"
    }
   ],
   "source": [
    "# Model Fitting\n",
    "rf.fit(x_train, y_train)"
   ]
  },
  {
   "cell_type": "code",
   "execution_count": 35,
   "metadata": {},
   "outputs": [
    {
     "name": "stdout",
     "output_type": "stream",
     "text": [
      "Train Score: 1.0\n",
      "Test Score:  1.0\n"
     ]
    }
   ],
   "source": [
    "# Accuracy Testing\n",
    "rftrm=rf.score(x_train,y_train)\n",
    "print('Train Score:',rftrm)\n",
    "rftem=rf.score(x_test,y_test)\n",
    "print('Test Score: ',rftem)"
   ]
  },
  {
   "cell_type": "markdown",
   "metadata": {},
   "source": [
    "## This model is perfect one, we can proceed with other models with scaling confirmation."
   ]
  },
  {
   "cell_type": "markdown",
   "metadata": {},
   "source": [
    "### #6.4 With Robust Scaling:"
   ]
  },
  {
   "cell_type": "code",
   "execution_count": 36,
   "metadata": {},
   "outputs": [
    {
     "data": {
      "text/plain": [
       "array([[-8.14814815e-01, -1.00000000e+00, -5.00000000e-01,\n",
       "         0.00000000e+00,  1.27802339e+00],\n",
       "       [ 7.40740741e-02,  0.00000000e+00,  0.00000000e+00,\n",
       "         0.00000000e+00, -9.44093122e-02],\n",
       "       [ 7.40740741e-02,  0.00000000e+00,  0.00000000e+00,\n",
       "         0.00000000e+00, -4.27835917e-01],\n",
       "       [-6.29629630e-01, -1.00000000e+00,  5.00000000e-01,\n",
       "         0.00000000e+00, -6.87055795e-01],\n",
       "       [ 5.92592593e-01, -1.00000000e+00,  0.00000000e+00,\n",
       "         0.00000000e+00,  4.59622810e-01],\n",
       "       [-8.51851852e-01, -1.00000000e+00,  5.00000000e-01,\n",
       "         0.00000000e+00, -5.96507919e-01],\n",
       "       [ 1.48148148e-01, -1.00000000e+00,  5.00000000e-01,\n",
       "         0.00000000e+00,  2.61738206e-01],\n",
       "       [-1.48148148e-01,  0.00000000e+00,  0.00000000e+00,\n",
       "         0.00000000e+00, -3.24528513e-01],\n",
       "       [ 5.55555556e-01,  0.00000000e+00,  5.00000000e-01,\n",
       "         0.00000000e+00,  1.38172254e-01],\n",
       "       [-7.40740741e-02,  0.00000000e+00,  0.00000000e+00,\n",
       "         1.00000000e+00,  6.07924338e-01],\n",
       "       [ 7.40740741e-02, -1.00000000e+00,  0.00000000e+00,\n",
       "         0.00000000e+00, -2.42822766e-01],\n",
       "       [-4.07407407e-01, -1.00000000e+00, -5.00000000e-01,\n",
       "         1.00000000e+00,  5.89008898e-01],\n",
       "       [-7.40740741e-02,  0.00000000e+00,  0.00000000e+00,\n",
       "         0.00000000e+00,  1.61117018e-01],\n",
       "       [ 1.07407407e+00, -1.00000000e+00,  0.00000000e+00,\n",
       "         0.00000000e+00,  7.84095361e-01],\n",
       "       [ 1.85185185e-01, -1.00000000e+00,  5.00000000e-01,\n",
       "         0.00000000e+00, -1.38060328e-01],\n",
       "       [-1.07407407e+00, -1.00000000e+00, -5.00000000e-01,\n",
       "         1.00000000e+00,  1.76786614e-01],\n",
       "       [ 8.88888889e-01,  0.00000000e+00,  0.00000000e+00,\n",
       "         1.00000000e+00, -2.77743578e-01],\n",
       "       [-7.40740741e-02,  0.00000000e+00, -5.00000000e-01,\n",
       "         0.00000000e+00,  3.97336169e-03],\n",
       "       [-8.14814815e-01,  0.00000000e+00,  0.00000000e+00,\n",
       "         0.00000000e+00, -7.43018636e-01],\n",
       "       [-4.81481481e-01, -1.00000000e+00, -5.00000000e-01,\n",
       "         1.00000000e+00,  1.34730539e+00],\n",
       "       [ 4.44444444e-01,  0.00000000e+00,  0.00000000e+00,\n",
       "         1.00000000e+00,  5.81062175e-01],\n",
       "       [ 6.66666667e-01,  0.00000000e+00,  5.00000000e-01,\n",
       "         0.00000000e+00,  1.34092563e+00],\n",
       "       [ 7.40740741e-02,  0.00000000e+00,  0.00000000e+00,\n",
       "         1.00000000e+00,  1.86149197e+00],\n",
       "       [ 1.11111111e-01, -1.00000000e+00,  0.00000000e+00,\n",
       "         0.00000000e+00,  1.23062287e-01],\n",
       "       [-4.44444444e-01, -1.00000000e+00,  0.00000000e+00,\n",
       "         0.00000000e+00,  2.18809111e+00],\n",
       "       [-6.29629630e-01, -1.00000000e+00, -5.00000000e-01,\n",
       "         1.00000000e+00,  5.45357882e-01],\n",
       "       [-5.18518519e-01,  0.00000000e+00, -5.00000000e-01,\n",
       "         0.00000000e+00,  1.83888298e+00],\n",
       "       [ 1.48148148e-01, -1.00000000e+00,  5.00000000e-01,\n",
       "         1.00000000e+00, -5.09877441e-01],\n",
       "       [-2.22222222e-01, -1.00000000e+00,  0.00000000e+00,\n",
       "         1.00000000e+00,  9.80524931e-01],\n",
       "       [ 0.00000000e+00,  0.00000000e+00,  0.00000000e+00,\n",
       "         0.00000000e+00,  4.49325648e-01],\n",
       "       [-1.00000000e+00, -1.00000000e+00,  5.00000000e-01,\n",
       "         1.00000000e+00, -5.80502546e-01],\n",
       "       [ 1.07407407e+00,  0.00000000e+00, -5.00000000e-01,\n",
       "         0.00000000e+00, -4.89059265e-01],\n",
       "       [ 1.48148148e-01,  0.00000000e+00,  0.00000000e+00,\n",
       "         1.00000000e+00, -3.27102804e-01],\n",
       "       [ 7.40740741e-01, -1.00000000e+00, -5.00000000e-01,\n",
       "         1.00000000e+00,  2.00789076e+00],\n",
       "       [ 2.96296296e-01,  0.00000000e+00,  5.00000000e-01,\n",
       "         0.00000000e+00,  2.19933964e-02],\n",
       "       [ 3.70370370e-02,  0.00000000e+00,  5.00000000e-01,\n",
       "         1.00000000e+00, -7.44473669e-01],\n",
       "       [-4.81481481e-01,  0.00000000e+00, -5.00000000e-01,\n",
       "         1.00000000e+00, -5.02714198e-01],\n",
       "       [-2.22222222e-01,  0.00000000e+00,  0.00000000e+00,\n",
       "         1.00000000e+00,  1.67888522e-04],\n",
       "       [-2.22222222e-01, -1.00000000e+00,  5.00000000e-01,\n",
       "         1.00000000e+00, -4.73165818e-01],\n",
       "       [-1.11111111e+00,  0.00000000e+00,  5.00000000e-01,\n",
       "         0.00000000e+00, -5.43119369e-01],\n",
       "       [ 1.03703704e+00, -1.00000000e+00,  5.00000000e-01,\n",
       "         0.00000000e+00,  5.91471263e-01],\n",
       "       [ 4.81481481e-01, -1.00000000e+00, -5.00000000e-01,\n",
       "         1.00000000e+00,  3.38575186e-02],\n",
       "       [ 1.85185185e-01,  0.00000000e+00,  5.00000000e-01,\n",
       "         1.00000000e+00,  2.07454250e-01],\n",
       "       [-8.14814815e-01,  0.00000000e+00,  5.00000000e-01,\n",
       "         0.00000000e+00, -1.87643405e-01],\n",
       "       [ 1.85185185e-01, -1.00000000e+00,  5.00000000e-01,\n",
       "         1.00000000e+00, -1.83726006e-01],\n",
       "       [ 7.77777778e-01, -1.00000000e+00,  5.00000000e-01,\n",
       "         1.00000000e+00, -6.52470759e-01],\n",
       "       [-2.96296296e-01, -1.00000000e+00, -5.00000000e-01,\n",
       "         0.00000000e+00, -9.46331636e-02],\n",
       "       [ 8.51851852e-01,  0.00000000e+00,  0.00000000e+00,\n",
       "         0.00000000e+00, -4.08025071e-01],\n",
       "       [-8.14814815e-01,  0.00000000e+00,  5.00000000e-01,\n",
       "         0.00000000e+00,  1.98662488e+00],\n",
       "       [-6.29629630e-01, -1.00000000e+00,  0.00000000e+00,\n",
       "         0.00000000e+00,  6.55828530e-01],\n",
       "       [ 4.81481481e-01, -1.00000000e+00, -5.00000000e-01,\n",
       "         0.00000000e+00,  6.13296771e-01],\n",
       "       [ 8.14814815e-01,  0.00000000e+00,  5.00000000e-01,\n",
       "         1.00000000e+00, -3.40086183e-01],\n",
       "       [ 6.29629630e-01,  0.00000000e+00,  0.00000000e+00,\n",
       "         1.00000000e+00,  1.48262354e+00],\n",
       "       [-7.77777778e-01, -1.00000000e+00, -5.00000000e-01,\n",
       "         1.00000000e+00,  5.05960043e-01],\n",
       "       [ 8.51851852e-01, -1.00000000e+00, -5.00000000e-01,\n",
       "         1.00000000e+00, -4.19441491e-01],\n",
       "       [-7.03703704e-01, -1.00000000e+00,  0.00000000e+00,\n",
       "         0.00000000e+00,  2.50153898e-02],\n",
       "       [ 7.40740741e-01,  0.00000000e+00, -5.00000000e-01,\n",
       "         1.00000000e+00, -2.90615032e-01],\n",
       "       [-1.85185185e-01,  0.00000000e+00, -5.00000000e-01,\n",
       "         0.00000000e+00,  1.55459175e+00],\n",
       "       [ 5.55555556e-01,  0.00000000e+00,  5.00000000e-01,\n",
       "         1.00000000e+00, -4.30410208e-01],\n",
       "       [-4.07407407e-01,  0.00000000e+00, -5.00000000e-01,\n",
       "         0.00000000e+00,  5.33493760e-01],\n",
       "       [-2.59259259e-01, -1.00000000e+00,  0.00000000e+00,\n",
       "         1.00000000e+00,  1.78392747e+00],\n",
       "       [-7.77777778e-01,  0.00000000e+00, -5.00000000e-01,\n",
       "         1.00000000e+00, -4.99356427e-01],\n",
       "       [ 8.14814815e-01,  0.00000000e+00,  0.00000000e+00,\n",
       "         1.00000000e+00,  7.56225866e-01],\n",
       "       [ 0.00000000e+00,  0.00000000e+00,  0.00000000e+00,\n",
       "         1.00000000e+00, -6.23034305e-01],\n",
       "       [ 5.55555556e-01, -1.00000000e+00, -5.00000000e-01,\n",
       "         0.00000000e+00, -7.09049191e-02],\n",
       "       [ 8.51851852e-01, -1.00000000e+00,  5.00000000e-01,\n",
       "         1.00000000e+00,  1.46773742e+00],\n",
       "       [-5.92592593e-01,  0.00000000e+00, -5.00000000e-01,\n",
       "         0.00000000e+00, -1.20935699e-01],\n",
       "       [-1.03703704e+00,  0.00000000e+00,  5.00000000e-01,\n",
       "         1.00000000e+00, -3.47473278e-01],\n",
       "       [ 3.33333333e-01,  0.00000000e+00,  5.00000000e-01,\n",
       "         0.00000000e+00,  1.20001119e+00],\n",
       "       [-1.00000000e+00, -1.00000000e+00, -5.00000000e-01,\n",
       "         1.00000000e+00,  1.15725558e+00],\n",
       "       [ 9.25925926e-01,  0.00000000e+00, -5.00000000e-01,\n",
       "         0.00000000e+00,  3.41373328e-03],\n",
       "       [-6.29629630e-01, -1.00000000e+00,  5.00000000e-01,\n",
       "         0.00000000e+00,  6.42285522e-01],\n",
       "       [-7.77777778e-01, -1.00000000e+00,  5.00000000e-01,\n",
       "         0.00000000e+00, -3.72880407e-01],\n",
       "       [-1.48148148e-01, -1.00000000e+00,  5.00000000e-01,\n",
       "         1.00000000e+00,  1.00380547e+00],\n",
       "       [-5.18518519e-01,  0.00000000e+00, -5.00000000e-01,\n",
       "         1.00000000e+00,  3.50607197e-01],\n",
       "       [-7.03703704e-01,  0.00000000e+00,  0.00000000e+00,\n",
       "         1.00000000e+00,  7.80401813e-01],\n",
       "       [-3.33333333e-01, -1.00000000e+00, -5.00000000e-01,\n",
       "         0.00000000e+00, -3.06508478e-01],\n",
       "       [-7.03703704e-01, -1.00000000e+00, -5.00000000e-01,\n",
       "         1.00000000e+00,  5.84755722e-01],\n",
       "       [-9.62962963e-01, -1.00000000e+00, -5.00000000e-01,\n",
       "         0.00000000e+00, -6.97856623e-02],\n",
       "       [-4.81481481e-01, -1.00000000e+00,  0.00000000e+00,\n",
       "         1.00000000e+00, -3.46577872e-01],\n",
       "       [ 5.55555556e-01,  0.00000000e+00, -5.00000000e-01,\n",
       "         0.00000000e+00, -2.79814203e-04],\n",
       "       [ 7.03703704e-01,  0.00000000e+00,  5.00000000e-01,\n",
       "         0.00000000e+00, -6.91197045e-01],\n",
       "       [-4.81481481e-01, -1.00000000e+00,  0.00000000e+00,\n",
       "         0.00000000e+00, -4.72830041e-01],\n",
       "       [-2.59259259e-01, -1.00000000e+00, -5.00000000e-01,\n",
       "         1.00000000e+00, -2.92181991e-01],\n",
       "       [ 7.40740741e-02, -1.00000000e+00,  0.00000000e+00,\n",
       "         0.00000000e+00, -4.33096424e-01],\n",
       "       [ 5.18518519e-01,  0.00000000e+00, -5.00000000e-01,\n",
       "         0.00000000e+00, -1.67888522e-04],\n",
       "       [ 2.22222222e-01, -1.00000000e+00,  5.00000000e-01,\n",
       "         0.00000000e+00, -3.79987688e-02],\n",
       "       [ 8.88888889e-01,  0.00000000e+00,  0.00000000e+00,\n",
       "         0.00000000e+00,  1.72533438e-01],\n",
       "       [-2.96296296e-01, -1.00000000e+00, -5.00000000e-01,\n",
       "         1.00000000e+00,  1.02462365e+00],\n",
       "       [ 1.85185185e-01, -1.00000000e+00,  5.00000000e-01,\n",
       "         1.00000000e+00,  3.66500644e-01],\n",
       "       [ 6.29629630e-01,  0.00000000e+00,  5.00000000e-01,\n",
       "         0.00000000e+00,  2.97442498e-01],\n",
       "       [-1.48148148e-01,  0.00000000e+00, -5.00000000e-01,\n",
       "         1.00000000e+00,  1.36493368e-01],\n",
       "       [-5.92592593e-01, -1.00000000e+00, -5.00000000e-01,\n",
       "         0.00000000e+00,  1.73635906e+00],\n",
       "       [-1.11111111e-01, -1.00000000e+00,  0.00000000e+00,\n",
       "         1.00000000e+00,  1.71632436e+00],\n",
       "       [ 4.07407407e-01,  0.00000000e+00,  0.00000000e+00,\n",
       "         0.00000000e+00,  1.20711847e-01],\n",
       "       [-3.33333333e-01,  0.00000000e+00,  0.00000000e+00,\n",
       "         1.00000000e+00, -2.81213274e-01],\n",
       "       [ 4.81481481e-01, -1.00000000e+00,  0.00000000e+00,\n",
       "         0.00000000e+00,  2.43080083e+00],\n",
       "       [ 4.07407407e-01, -1.00000000e+00, -5.00000000e-01,\n",
       "         0.00000000e+00,  1.28250042e+00],\n",
       "       [-9.25925926e-01,  0.00000000e+00, -5.00000000e-01,\n",
       "         1.00000000e+00,  2.42906710e+00],\n",
       "       [-1.11111111e+00, -1.00000000e+00, -5.00000000e-01,\n",
       "         1.00000000e+00,  3.12104762e-01],\n",
       "       [-5.18518519e-01,  0.00000000e+00, -5.00000000e-01,\n",
       "         1.00000000e+00, -2.31182495e-01],\n",
       "       [ 0.00000000e+00, -1.00000000e+00, -5.00000000e-01,\n",
       "         0.00000000e+00, -1.21159550e-01],\n",
       "       [-6.29629630e-01, -1.00000000e+00,  0.00000000e+00,\n",
       "         0.00000000e+00, -9.06038391e-02],\n",
       "       [ 4.07407407e-01,  0.00000000e+00,  5.00000000e-01,\n",
       "         0.00000000e+00, -5.56326599e-01],\n",
       "       [-8.51851852e-01,  0.00000000e+00, -5.00000000e-01,\n",
       "         1.00000000e+00,  1.60697297e+00],\n",
       "       [-2.96296296e-01,  0.00000000e+00,  0.00000000e+00,\n",
       "         1.00000000e+00, -5.56102748e-01],\n",
       "       [-8.51851852e-01,  0.00000000e+00,  5.00000000e-01,\n",
       "         0.00000000e+00, -2.22004589e-01],\n",
       "       [-1.11111111e-01,  0.00000000e+00,  0.00000000e+00,\n",
       "         0.00000000e+00,  6.80116403e-01],\n",
       "       [ 1.00000000e+00,  0.00000000e+00, -5.00000000e-01,\n",
       "         1.00000000e+00, -4.76747440e-01],\n",
       "       [-8.14814815e-01,  0.00000000e+00,  5.00000000e-01,\n",
       "         0.00000000e+00,  3.26095473e-01],\n",
       "       [ 1.85185185e-01,  0.00000000e+00, -5.00000000e-01,\n",
       "         0.00000000e+00, -7.21528905e-01],\n",
       "       [ 7.40740741e-02, -1.00000000e+00,  5.00000000e-01,\n",
       "         1.00000000e+00, -8.02323577e-01],\n",
       "       [-3.70370370e-01,  0.00000000e+00,  0.00000000e+00,\n",
       "         1.00000000e+00, -5.33493760e-01],\n",
       "       [ 7.40740741e-01, -1.00000000e+00,  0.00000000e+00,\n",
       "         1.00000000e+00, -1.87475516e-02],\n",
       "       [-9.25925926e-01, -1.00000000e+00,  5.00000000e-01,\n",
       "         1.00000000e+00, -5.21070010e-01],\n",
       "       [ 2.22222222e-01,  0.00000000e+00, -5.00000000e-01,\n",
       "         0.00000000e+00,  4.87828082e-01],\n",
       "       [ 8.14814815e-01,  0.00000000e+00,  5.00000000e-01,\n",
       "         1.00000000e+00, -4.94991326e-01],\n",
       "       [-1.85185185e-01, -1.00000000e+00,  5.00000000e-01,\n",
       "         0.00000000e+00, -4.29067099e-01],\n",
       "       [-4.81481481e-01, -1.00000000e+00, -5.00000000e-01,\n",
       "         1.00000000e+00, -4.07913146e-01],\n",
       "       [ 5.92592593e-01, -1.00000000e+00, -5.00000000e-01,\n",
       "         0.00000000e+00,  1.29145447e+00],\n",
       "       [-6.29629630e-01,  0.00000000e+00,  5.00000000e-01,\n",
       "         0.00000000e+00,  1.46930438e+00],\n",
       "       [-1.11111111e+00,  0.00000000e+00, -5.00000000e-01,\n",
       "         1.00000000e+00,  3.65941015e-01],\n",
       "       [-4.07407407e-01,  0.00000000e+00,  5.00000000e-01,\n",
       "         0.00000000e+00,  9.53550842e-01],\n",
       "       [-3.33333333e-01, -1.00000000e+00,  5.00000000e-01,\n",
       "         0.00000000e+00,  3.15238682e-01],\n",
       "       [ 2.96296296e-01, -1.00000000e+00, -5.00000000e-01,\n",
       "         1.00000000e+00, -1.61340870e-01],\n",
       "       [-9.62962963e-01, -1.00000000e+00, -5.00000000e-01,\n",
       "         1.00000000e+00,  1.34674576e+00],\n",
       "       [ 7.77777778e-01,  0.00000000e+00, -5.00000000e-01,\n",
       "         0.00000000e+00,  2.69796855e-01],\n",
       "       [-3.70370370e-01,  0.00000000e+00,  5.00000000e-01,\n",
       "         1.00000000e+00, -6.81795288e-01],\n",
       "       [ 7.40740741e-02,  0.00000000e+00,  0.00000000e+00,\n",
       "         1.00000000e+00,  2.19435895e+00],\n",
       "       [-4.81481481e-01, -1.00000000e+00,  5.00000000e-01,\n",
       "         0.00000000e+00, -7.22983939e-01],\n",
       "       [ 9.25925926e-01, -1.00000000e+00,  5.00000000e-01,\n",
       "         0.00000000e+00,  7.33393027e-01],\n",
       "       [ 2.59259259e-01,  0.00000000e+00,  0.00000000e+00,\n",
       "         1.00000000e+00,  2.12496502e+00],\n",
       "       [ 1.48148148e-01,  0.00000000e+00,  0.00000000e+00,\n",
       "         1.00000000e+00, -3.78868431e-02],\n",
       "       [-7.77777778e-01,  0.00000000e+00,  5.00000000e-01,\n",
       "         0.00000000e+00,  1.32626336e+00],\n",
       "       [-1.11111111e-01, -1.00000000e+00, -5.00000000e-01,\n",
       "         0.00000000e+00,  7.94616375e-01],\n",
       "       [ 1.07407407e+00,  0.00000000e+00,  0.00000000e+00,\n",
       "         1.00000000e+00, -2.23571548e-01],\n",
       "       [ 3.70370370e-01, -1.00000000e+00, -5.00000000e-01,\n",
       "         0.00000000e+00, -3.31244054e-01],\n",
       "       [-3.70370370e-01, -1.00000000e+00, -5.00000000e-01,\n",
       "         0.00000000e+00, -1.16682523e-01],\n",
       "       [ 2.22222222e-01,  0.00000000e+00, -5.00000000e-01,\n",
       "         1.00000000e+00, -2.90279255e-01],\n",
       "       [ 8.88888889e-01, -1.00000000e+00,  5.00000000e-01,\n",
       "         0.00000000e+00, -4.33320275e-01],\n",
       "       [ 1.48148148e-01,  0.00000000e+00, -5.00000000e-01,\n",
       "         1.00000000e+00, -8.02323577e-01],\n",
       "       [ 7.03703704e-01, -1.00000000e+00,  0.00000000e+00,\n",
       "         1.00000000e+00,  1.32122671e+00],\n",
       "       [ 5.55555556e-01,  0.00000000e+00, -5.00000000e-01,\n",
       "         1.00000000e+00, -5.94940959e-01],\n",
       "       [ 1.07407407e+00,  0.00000000e+00, -5.00000000e-01,\n",
       "         1.00000000e+00,  1.67832559e-01],\n",
       "       [-2.22222222e-01,  0.00000000e+00, -5.00000000e-01,\n",
       "         0.00000000e+00, -4.78202474e-01],\n",
       "       [ 5.92592593e-01,  0.00000000e+00,  5.00000000e-01,\n",
       "         0.00000000e+00, -5.02938049e-01],\n",
       "       [-2.96296296e-01, -1.00000000e+00,  0.00000000e+00,\n",
       "         1.00000000e+00, -2.16072528e-01],\n",
       "       [-7.03703704e-01, -1.00000000e+00, -5.00000000e-01,\n",
       "         1.00000000e+00, -1.82382898e-01],\n",
       "       [ 5.92592593e-01, -1.00000000e+00,  0.00000000e+00,\n",
       "         1.00000000e+00, -7.38317757e-01],\n",
       "       [-8.51851852e-01,  0.00000000e+00,  0.00000000e+00,\n",
       "         0.00000000e+00, -6.47546029e-01],\n",
       "       [ 1.48148148e-01,  0.00000000e+00, -5.00000000e-01,\n",
       "         1.00000000e+00, -5.86098830e-01],\n",
       "       [ 8.51851852e-01,  0.00000000e+00, -5.00000000e-01,\n",
       "         0.00000000e+00, -3.27662432e-01],\n",
       "       [ 3.70370370e-01,  0.00000000e+00,  5.00000000e-01,\n",
       "         1.00000000e+00, -7.47159886e-01],\n",
       "       [ 1.00000000e+00, -1.00000000e+00,  0.00000000e+00,\n",
       "         1.00000000e+00,  7.89635682e-02],\n",
       "       [-2.96296296e-01,  0.00000000e+00,  0.00000000e+00,\n",
       "         1.00000000e+00,  3.11992837e-01],\n",
       "       [ 1.48148148e-01,  0.00000000e+00,  0.00000000e+00,\n",
       "         0.00000000e+00, -3.80491354e-01],\n",
       "       [-5.18518519e-01,  0.00000000e+00, -5.00000000e-01,\n",
       "         1.00000000e+00, -3.03262634e-01],\n",
       "       [ 2.96296296e-01,  0.00000000e+00,  0.00000000e+00,\n",
       "         0.00000000e+00,  1.01029716e+00],\n",
       "       [ 5.18518519e-01, -1.00000000e+00,  0.00000000e+00,\n",
       "         0.00000000e+00, -3.90900442e-01],\n",
       "       [-4.07407407e-01, -1.00000000e+00,  0.00000000e+00,\n",
       "         1.00000000e+00, -1.13436678e-01],\n",
       "       [-5.55555556e-01, -1.00000000e+00,  5.00000000e-01,\n",
       "         0.00000000e+00, -3.91012368e-01],\n",
       "       [ 4.44444444e-01, -1.00000000e+00, -5.00000000e-01,\n",
       "         1.00000000e+00, -4.46751357e-01],\n",
       "       [-7.40740741e-02,  0.00000000e+00,  5.00000000e-01,\n",
       "         1.00000000e+00, -1.20599922e-01],\n",
       "       [-8.88888889e-01, -1.00000000e+00, -5.00000000e-01,\n",
       "         1.00000000e+00,  1.64480385e+00],\n",
       "       [-1.07407407e+00,  0.00000000e+00, -5.00000000e-01,\n",
       "         1.00000000e+00,  5.67519167e-01],\n",
       "       [-2.59259259e-01,  0.00000000e+00,  0.00000000e+00,\n",
       "         0.00000000e+00,  4.87828082e-01],\n",
       "       [ 4.81481481e-01, -1.00000000e+00,  0.00000000e+00,\n",
       "         0.00000000e+00,  1.42240752e+00],\n",
       "       [ 4.44444444e-01, -1.00000000e+00,  5.00000000e-01,\n",
       "         0.00000000e+00,  3.12832279e-02],\n",
       "       [ 2.22222222e-01, -1.00000000e+00,  0.00000000e+00,\n",
       "         1.00000000e+00,  1.01477419e+00],\n",
       "       [-9.25925926e-01, -1.00000000e+00, -5.00000000e-01,\n",
       "         0.00000000e+00, -2.99345235e-01],\n",
       "       [-6.29629630e-01, -1.00000000e+00,  5.00000000e-01,\n",
       "         0.00000000e+00, -1.18361408e-01],\n",
       "       [ 0.00000000e+00,  0.00000000e+00,  0.00000000e+00,\n",
       "         1.00000000e+00, -4.38692708e-01],\n",
       "       [-2.22222222e-01, -1.00000000e+00,  5.00000000e-01,\n",
       "         1.00000000e+00,  3.68067603e-01],\n",
       "       [-1.48148148e-01, -1.00000000e+00,  0.00000000e+00,\n",
       "         1.00000000e+00,  5.37523085e-01],\n",
       "       [-1.11111111e-01,  0.00000000e+00, -5.00000000e-01,\n",
       "         1.00000000e+00, -1.31009010e-01],\n",
       "       [ 1.03703704e+00, -1.00000000e+00, -5.00000000e-01,\n",
       "         0.00000000e+00,  4.93760143e-01],\n",
       "       [ 1.11111111e-01,  0.00000000e+00, -5.00000000e-01,\n",
       "         1.00000000e+00, -3.90676591e-01],\n",
       "       [-7.40740741e-01,  0.00000000e+00,  5.00000000e-01,\n",
       "         0.00000000e+00,  5.67966870e-01],\n",
       "       [-2.22222222e-01,  0.00000000e+00,  5.00000000e-01,\n",
       "         0.00000000e+00,  2.27488947e-01],\n",
       "       [ 8.14814815e-01, -1.00000000e+00,  5.00000000e-01,\n",
       "         0.00000000e+00,  2.18758744e-01],\n",
       "       [-8.51851852e-01, -1.00000000e+00, -5.00000000e-01,\n",
       "         1.00000000e+00,  9.94067939e-01],\n",
       "       [ 5.18518519e-01, -1.00000000e+00,  5.00000000e-01,\n",
       "         0.00000000e+00, -5.87609827e-03],\n",
       "       [-9.25925926e-01, -1.00000000e+00,  0.00000000e+00,\n",
       "         1.00000000e+00, -2.51888746e-01],\n",
       "       [-3.33333333e-01, -1.00000000e+00, -5.00000000e-01,\n",
       "         1.00000000e+00,  1.73876546e-01],\n",
       "       [-1.00000000e+00, -1.00000000e+00, -5.00000000e-01,\n",
       "         0.00000000e+00,  2.43080083e+00],\n",
       "       [ 4.44444444e-01, -1.00000000e+00,  5.00000000e-01,\n",
       "         1.00000000e+00,  1.33823941e+00],\n",
       "       [ 9.25925926e-01,  0.00000000e+00, -5.00000000e-01,\n",
       "         0.00000000e+00, -4.57496223e-01],\n",
       "       [ 7.40740741e-02,  0.00000000e+00, -5.00000000e-01,\n",
       "         0.00000000e+00, -3.95489395e-01],\n",
       "       [ 7.40740741e-01,  0.00000000e+00, -5.00000000e-01,\n",
       "         1.00000000e+00,  2.35721081e+00],\n",
       "       [ 7.03703704e-01,  0.00000000e+00, -5.00000000e-01,\n",
       "         1.00000000e+00,  7.82976104e-01],\n",
       "       [ 4.81481481e-01,  0.00000000e+00, -5.00000000e-01,\n",
       "         0.00000000e+00,  5.65728356e-01],\n",
       "       [-8.14814815e-01,  0.00000000e+00, -5.00000000e-01,\n",
       "         0.00000000e+00, -6.63215625e-01],\n",
       "       [ 1.00000000e+00,  0.00000000e+00,  0.00000000e+00,\n",
       "         0.00000000e+00,  2.65655605e-01],\n",
       "       [ 1.00000000e+00,  0.00000000e+00,  0.00000000e+00,\n",
       "         0.00000000e+00, -8.02227321e-01],\n",
       "       [ 3.70370370e-02, -1.00000000e+00, -5.00000000e-01,\n",
       "         0.00000000e+00,  2.32240193e+00],\n",
       "       [ 4.07407407e-01, -1.00000000e+00,  0.00000000e+00,\n",
       "         0.00000000e+00, -2.65207902e-01],\n",
       "       [-1.07407407e+00,  0.00000000e+00,  0.00000000e+00,\n",
       "         0.00000000e+00, -2.16072528e-01],\n",
       "       [ 2.59259259e-01,  0.00000000e+00,  5.00000000e-01,\n",
       "         0.00000000e+00, -4.52459567e-01],\n",
       "       [-8.14814815e-01,  0.00000000e+00,  5.00000000e-01,\n",
       "         1.00000000e+00,  9.34579439e-03],\n",
       "       [-1.85185185e-01, -1.00000000e+00,  0.00000000e+00,\n",
       "         1.00000000e+00, -2.89607700e-01]])"
      ]
     },
     "execution_count": 36,
     "metadata": {},
     "output_type": "execute_result"
    }
   ],
   "source": [
    "# Robust Scaling\n",
    "scaler=RobustScaler()\n",
    "x_scaled=scaler.fit_transform(x)\n",
    "x_scaled"
   ]
  },
  {
   "cell_type": "code",
   "execution_count": 37,
   "metadata": {},
   "outputs": [],
   "source": [
    "# Train & Test Spliting\n",
    "x_train,x_test,y_train,y_test=train_test_split(x_scaled, y, test_size=0.25, random_state=0)"
   ]
  },
  {
   "cell_type": "code",
   "execution_count": 38,
   "metadata": {},
   "outputs": [
    {
     "data": {
      "text/plain": [
       "RandomForestClassifier(n_estimators=50)"
      ]
     },
     "execution_count": 38,
     "metadata": {},
     "output_type": "execute_result"
    }
   ],
   "source": [
    "# Model Fitting\n",
    "rf.fit(x_train, y_train)"
   ]
  },
  {
   "cell_type": "code",
   "execution_count": 39,
   "metadata": {},
   "outputs": [
    {
     "name": "stdout",
     "output_type": "stream",
     "text": [
      "Train Score: 1.0\n",
      "Test Score:  1.0\n"
     ]
    }
   ],
   "source": [
    "# Accuracy Testing\n",
    "rftrr=rf.score(x_train,y_train)\n",
    "print('Train Score:',rftrr)\n",
    "rfter=rf.score(x_test,y_test)\n",
    "print('Test Score: ',rfter)"
   ]
  },
  {
   "cell_type": "markdown",
   "metadata": {},
   "source": [
    "## This model is perfect one, we can proceed with other models with scaling confirmation."
   ]
  },
  {
   "cell_type": "markdown",
   "metadata": {},
   "source": [
    "### 7. Conclusion:"
   ]
  },
  {
   "cell_type": "code",
   "execution_count": 40,
   "metadata": {},
   "outputs": [
    {
     "name": "stdout",
     "output_type": "stream",
     "text": [
      "Random Forest Model Without Scaling:\n",
      "Train Score: 1.0\n",
      "Test Score:  0.98\n",
      "Random Forest Model With Standard Scaling:\n",
      "Train Score: 1.0\n",
      "Test Score:  1.0\n",
      "Random Forest Model With Min Max Scaling:\n",
      "Train Score: 1.0\n",
      "Test Score:  1.0\n",
      "Random Forest Model With Robust Scaling:\n",
      "Train Score: 1.0\n",
      "Test Score:  1.0\n"
     ]
    }
   ],
   "source": [
    "print('Random Forest Model Without Scaling:')\n",
    "print('Train Score:',rftr)\n",
    "print('Test Score: ',rfte)\n",
    "print('Random Forest Model With Standard Scaling:')\n",
    "print('Train Score:',rftrs)\n",
    "print('Test Score: ',rftes)\n",
    "print('Random Forest Model With Min Max Scaling:')\n",
    "print('Train Score:',rftrm)\n",
    "print('Test Score: ',rftem)\n",
    "print('Random Forest Model With Robust Scaling:')\n",
    "print('Train Score:',rftrr)\n",
    "print('Test Score: ',rfter)"
   ]
  },
  {
   "cell_type": "markdown",
   "metadata": {},
   "source": [
    "# Conclusion:\n",
    "## All the models seems to be decent and perfect, with moreover the same scores, we can go with the model with standard scaling since it is simpler than others.\n",
    "# Project Completed Successfully"
   ]
  }
 ],
 "metadata": {
  "kernelspec": {
   "display_name": "Python 3 (ipykernel)",
   "language": "python",
   "name": "python3"
  },
  "language_info": {
   "codemirror_mode": {
    "name": "ipython",
    "version": 3
   },
   "file_extension": ".py",
   "mimetype": "text/x-python",
   "name": "python",
   "nbconvert_exporter": "python",
   "pygments_lexer": "ipython3",
   "version": "3.9.7"
  }
 },
 "nbformat": 4,
 "nbformat_minor": 4
}
